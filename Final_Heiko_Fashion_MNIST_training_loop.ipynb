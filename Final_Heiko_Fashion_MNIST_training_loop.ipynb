{
  "nbformat": 4,
  "nbformat_minor": 0,
  "metadata": {
    "colab": {
      "provenance": [],
      "authorship_tag": "ABX9TyMbfsuZ2keM/YUuFzIWpAgB",
      "include_colab_link": true
    },
    "kernelspec": {
      "name": "python3",
      "display_name": "Python 3"
    },
    "language_info": {
      "name": "python"
    }
  },
  "cells": [
    {
      "cell_type": "markdown",
      "metadata": {
        "id": "view-in-github",
        "colab_type": "text"
      },
      "source": [
        "<a href=\"https://colab.research.google.com/github/Teacher-Heiko/fashion-mnist/blob/master/Final_Heiko_Fashion_MNIST_training_loop.ipynb\" target=\"_parent\"><img src=\"https://colab.research.google.com/assets/colab-badge.svg\" alt=\"Open In Colab\"/></a>"
      ]
    },
    {
      "cell_type": "markdown",
      "source": [
        "**The goal is predict whether a picture is a bag and not a sneaker.**\n",
        "\n",
        "**And to do this from scratch using pure Python with only sparingly using Numpy or Pytorch or fastai.**"
      ],
      "metadata": {
        "id": "aACUWhHFea7s"
      }
    },
    {
      "cell_type": "markdown",
      "source": [
        "Based on chapter 4 of fastbook 04_mnist_basics.ipynp"
      ],
      "metadata": {
        "id": "Fun0DY-ge4vR"
      }
    },
    {
      "cell_type": "markdown",
      "source": [
        "***Load repository and dataset***"
      ],
      "metadata": {
        "id": "VyheTpc-0TrU"
      }
    },
    {
      "cell_type": "code",
      "source": [
        "# Credit: Google search\n",
        "from google.colab import drive\n",
        "drive.mount('/content/drive')"
      ],
      "metadata": {
        "id": "vExo2zoQ_5rS",
        "outputId": "a149925c-bea3-4e96-d630-bf0749eb3341",
        "colab": {
          "base_uri": "https://localhost:8080/"
        }
      },
      "execution_count": 1,
      "outputs": [
        {
          "output_type": "stream",
          "name": "stdout",
          "text": [
            "Drive already mounted at /content/drive; to attempt to forcibly remount, call drive.mount(\"/content/drive\", force_remount=True).\n"
          ]
        }
      ]
    },
    {
      "cell_type": "code",
      "source": [
        "# Credit: Google search\n",
        "!git clone https://github.com/zalandoresearch/fashion-mnist"
      ],
      "metadata": {
        "id": "1nv1X5MEACPb",
        "outputId": "ba9785d9-5f7f-46ab-9051-6d0fd4f64f07",
        "colab": {
          "base_uri": "https://localhost:8080/"
        }
      },
      "execution_count": 2,
      "outputs": [
        {
          "output_type": "stream",
          "name": "stdout",
          "text": [
            "fatal: destination path 'fashion-mnist' already exists and is not an empty directory.\n"
          ]
        }
      ]
    },
    {
      "cell_type": "code",
      "source": [
        "# Credit: StackOverflow\n",
        "import sys\n",
        "sys.path.append('fashion-mnist/utils')"
      ],
      "metadata": {
        "id": "KeZKYVjGB597"
      },
      "execution_count": 3,
      "outputs": []
    },
    {
      "cell_type": "code",
      "source": [
        "# Credit: Github of Fashion MNIST Readme, see above link\n",
        "import mnist_reader # from utils folder\n",
        "X_train, y_train = mnist_reader.load_mnist('fashion-mnist/data/fashion', kind='train')\n",
        "X_test, y_test = mnist_reader.load_mnist('fashion-mnist/data/fashion', kind='t10k')\n",
        "X_train.shape,y_train.shape,X_test.shape,y_test.shape"
      ],
      "metadata": {
        "id": "grDrb7LuCFkH",
        "colab": {
          "base_uri": "https://localhost:8080/"
        },
        "outputId": "cd3eb3fd-e0aa-4f5c-f6b5-c6440a960a35"
      },
      "execution_count": 4,
      "outputs": [
        {
          "output_type": "execute_result",
          "data": {
            "text/plain": [
              "((60000, 784), (60000,), (10000, 784), (10000,))"
            ]
          },
          "metadata": {},
          "execution_count": 4
        }
      ]
    },
    {
      "cell_type": "code",
      "source": [
        "type(X_train)"
      ],
      "metadata": {
        "id": "xMYWkXiQGLLL",
        "outputId": "da9680cf-a12b-4ed8-cf9d-731c88b3aed4",
        "colab": {
          "base_uri": "https://localhost:8080/"
        }
      },
      "execution_count": 5,
      "outputs": [
        {
          "output_type": "execute_result",
          "data": {
            "text/plain": [
              "numpy.ndarray"
            ]
          },
          "metadata": {},
          "execution_count": 5
        }
      ]
    },
    {
      "cell_type": "markdown",
      "source": [
        "**START of experimentation phase**"
      ],
      "metadata": {
        "id": "O9UFKlBKcwTH"
      }
    },
    {
      "cell_type": "markdown",
      "source": [
        "***Prepare images of bags; label 8***"
      ],
      "metadata": {
        "id": "_QZhArdU0iFf"
      }
    },
    {
      "cell_type": "code",
      "source": [
        "# eights = []\n",
        "# for index in range(len(y_train)) :\n",
        "#   if y_train[index] == 8 :\n",
        "#     eights.append(index)\n",
        "\n",
        "# len(eights)"
      ],
      "metadata": {
        "id": "FNYyB6UjDDzk"
      },
      "execution_count": 6,
      "outputs": []
    },
    {
      "cell_type": "code",
      "source": [
        "# images = [X_train[i] for i in eights]\n",
        "# len(images)"
      ],
      "metadata": {
        "id": "kzqRzVE6FkXB"
      },
      "execution_count": 7,
      "outputs": []
    },
    {
      "cell_type": "code",
      "source": [
        "# import numpy as np\n",
        "# imgs_8 = np.array(images)"
      ],
      "metadata": {
        "id": "tTg08O1tG7Kh"
      },
      "execution_count": 8,
      "outputs": []
    },
    {
      "cell_type": "code",
      "source": [
        "# Credit: ChatGPT\n",
        "import numpy as np\n",
        "import matplotlib.pyplot as plt\n",
        "\n",
        "def display_random_images(X, y, num_images=5):\n",
        "    \"\"\"\n",
        "    Display random images from the given dataset along with their labels.\n",
        "\n",
        "    Parameters:\n",
        "    - X: The dataset containing images.\n",
        "    - y: The corresponding labels.\n",
        "    - num_images: Number of random images to display (default is 5).\n",
        "    \"\"\"\n",
        "    # Generate random indices to select random images\n",
        "    random_indices = np.random.randint(0, len(X), num_images)\n",
        "\n",
        "    # Create a grid of subplots to display the images\n",
        "    fig, axes = plt.subplots(1, num_images, figsize=(15, 5))\n",
        "\n",
        "    for i, idx in enumerate(random_indices):\n",
        "        # Display the image\n",
        "        axes[i].imshow(X[idx].reshape(28, 28), cmap='gray')\n",
        "        axes[i].set_title(f\"Label: {y[idx]}\")\n",
        "        axes[i].axis('off')\n",
        "\n",
        "    plt.tight_layout()\n",
        "    plt.show()"
      ],
      "metadata": {
        "id": "5B7aKt3wFKSm"
      },
      "execution_count": 9,
      "outputs": []
    },
    {
      "cell_type": "code",
      "source": [
        "# display_random_images(imgs_8, [8]*6000, num_images=10)"
      ],
      "metadata": {
        "id": "80WQ3J6dFQZ-"
      },
      "execution_count": 10,
      "outputs": []
    },
    {
      "cell_type": "code",
      "source": [
        "# imgs_8.shape"
      ],
      "metadata": {
        "id": "dMlASMXsJAe3"
      },
      "execution_count": 11,
      "outputs": []
    },
    {
      "cell_type": "code",
      "source": [
        "# import torch\n",
        "# eights_tens = torch.tensor(imgs_8)\n",
        "# eights_tens.shape"
      ],
      "metadata": {
        "id": "Fz9CaO-2OLER"
      },
      "execution_count": 12,
      "outputs": []
    },
    {
      "cell_type": "code",
      "source": [
        "# sevens_tens = torch.tensor(imgs_7).view(-1, 28*28)\n",
        "# sevens_tens.shape"
      ],
      "metadata": {
        "id": "VjyxKSSSOlLG"
      },
      "execution_count": 13,
      "outputs": []
    },
    {
      "cell_type": "code",
      "source": [
        "# stacked_tens = torch.stack([eights_tens,sevens_tens]).float()/255\n",
        "# stacked_tens = stacked_tens.view(-1, 28*28)\n",
        "# stacked_tens.shape"
      ],
      "metadata": {
        "id": "D7fL4B6pQNLR"
      },
      "execution_count": 14,
      "outputs": []
    },
    {
      "cell_type": "code",
      "source": [
        "# display_random_images(stacked_tens, [7]*len(stacked_tens), num_images=10)"
      ],
      "metadata": {
        "id": "5OV95YIh8cmu"
      },
      "execution_count": 15,
      "outputs": []
    },
    {
      "cell_type": "code",
      "source": [
        "# train_x = stacked_tens\n",
        "# train_x.shape"
      ],
      "metadata": {
        "id": "PhmHPRtEDfLK"
      },
      "execution_count": 16,
      "outputs": []
    },
    {
      "cell_type": "code",
      "source": [
        "# from fastai.vision.all import *\n",
        "# train_x = torch.cat([eights_tens, sevens_tens])\n",
        "# train_x.shape\n"
      ],
      "metadata": {
        "id": "3j6tSP8rJtYf"
      },
      "execution_count": 17,
      "outputs": []
    },
    {
      "cell_type": "markdown",
      "source": [
        "***Bags are 1 and Sneakers are 0; for probability calculation***"
      ],
      "metadata": {
        "id": "YJzFrMyo68J-"
      }
    },
    {
      "cell_type": "code",
      "source": [
        "# train_y = torch.tensor([1]*len(eights) + [0]*len(sevens)).unsqueeze(1)\n",
        "# train_x.shape,train_y.shape"
      ],
      "metadata": {
        "id": "mJAJgmZwPImq"
      },
      "execution_count": 18,
      "outputs": []
    },
    {
      "cell_type": "code",
      "source": [
        "# len(train_y)"
      ],
      "metadata": {
        "id": "fSuT_gxfa0Ns"
      },
      "execution_count": 19,
      "outputs": []
    },
    {
      "cell_type": "markdown",
      "source": [
        "**END of experimentation phase**"
      ],
      "metadata": {
        "id": "jlMOIG5pdA2E"
      }
    },
    {
      "cell_type": "markdown",
      "source": [
        "***Function to prepare tensors***"
      ],
      "metadata": {
        "id": "pexcKTh81j_Q"
      }
    },
    {
      "cell_type": "code",
      "source": [
        "# Credit: Heiko\n",
        "import numpy as np\n",
        "import torch\n",
        "\n",
        "def prepare_tensors(X,y, label) :\n",
        "  \"\"\"\n",
        "  X = training or validation set\n",
        "  y = label set\n",
        "  label = Fashion MNIST label e.g. 8 means bags\n",
        "  \"\"\"\n",
        "  indices = []\n",
        "  for index in range(len(y)) :\n",
        "    if y[index] == label :\n",
        "      indices.append(index)\n",
        "\n",
        "  images = np.array([X[i] for i in indices])\n",
        "\n",
        "\n",
        "  return torch.tensor(images).view(-1,28*28)"
      ],
      "metadata": {
        "id": "dgvaFjDz1qDx"
      },
      "execution_count": 20,
      "outputs": []
    },
    {
      "cell_type": "code",
      "source": [
        "eight_tens = prepare_tensors(X_train, y_train, 8)\n",
        "eight_tens.shape"
      ],
      "metadata": {
        "id": "mPdHnH0d3mpk",
        "outputId": "6b240353-9965-4219-e48e-84834410527e",
        "colab": {
          "base_uri": "https://localhost:8080/"
        }
      },
      "execution_count": 21,
      "outputs": [
        {
          "output_type": "execute_result",
          "data": {
            "text/plain": [
              "torch.Size([6000, 784])"
            ]
          },
          "metadata": {},
          "execution_count": 21
        }
      ]
    },
    {
      "cell_type": "code",
      "source": [
        "display_random_images(eight_tens, [8]*len(eight_tens), num_images=10)"
      ],
      "metadata": {
        "id": "6ASmaknZ82tU",
        "outputId": "09f6917f-c044-4e27-b448-83523fb3f5f5",
        "colab": {
          "base_uri": "https://localhost:8080/",
          "height": 153
        }
      },
      "execution_count": 22,
      "outputs": [
        {
          "output_type": "display_data",
          "data": {
            "text/plain": [
              "<Figure size 1500x500 with 10 Axes>"
            ],
            "image/png": "[encoded data removed]"
          },
          "metadata": {}
        }
      ]
    },
    {
      "cell_type": "code",
      "source": [
        "seven_tens = prepare_tensors(X_train, y_train, 7)\n",
        "seven_tens.shape"
      ],
      "metadata": {
        "id": "IcPzd-m45Dlb",
        "outputId": "f23730cc-eb02-4f38-98a8-3417c40e75d5",
        "colab": {
          "base_uri": "https://localhost:8080/"
        }
      },
      "execution_count": 23,
      "outputs": [
        {
          "output_type": "execute_result",
          "data": {
            "text/plain": [
              "torch.Size([6000, 784])"
            ]
          },
          "metadata": {},
          "execution_count": 23
        }
      ]
    },
    {
      "cell_type": "code",
      "source": [
        "display_random_images(seven_tens, [7]*len(seven_tens), num_images=10)"
      ],
      "metadata": {
        "id": "EmbF-iYp84WE",
        "outputId": "a19c9083-2136-463d-8c63-399b7624e0cd",
        "colab": {
          "base_uri": "https://localhost:8080/",
          "height": 153
        }
      },
      "execution_count": 24,
      "outputs": [
        {
          "output_type": "display_data",
          "data": {
            "text/plain": [
              "<Figure size 1500x500 with 10 Axes>"
            ],
            "image/png": "[encoded data removed]"
          },
          "metadata": {}
        }
      ]
    },
    {
      "cell_type": "markdown",
      "source": [
        "***Normalize***"
      ],
      "metadata": {
        "id": "pWA-WFvm6nFe"
      }
    },
    {
      "cell_type": "code",
      "source": [
        "eight_tens = eight_tens.float()/255\n",
        "seven_tens = seven_tens.float()/255\n",
        "eight_tens.shape, seven_tens.shape"
      ],
      "metadata": {
        "id": "gzmQ7Rnv1qD9",
        "outputId": "d2b1438e-89d9-4ce9-ade1-f1cbf43389c1",
        "colab": {
          "base_uri": "https://localhost:8080/"
        }
      },
      "execution_count": 25,
      "outputs": [
        {
          "output_type": "execute_result",
          "data": {
            "text/plain": [
              "(torch.Size([6000, 784]), torch.Size([6000, 784]))"
            ]
          },
          "metadata": {},
          "execution_count": 25
        }
      ]
    },
    {
      "cell_type": "code",
      "source": [
        "import torch\n",
        "train_x = torch.cat([eight_tens, seven_tens])\n",
        "train_x.shape"
      ],
      "metadata": {
        "outputId": "8708d192-837f-4cb5-ace8-e2f785c9979a",
        "colab": {
          "base_uri": "https://localhost:8080/"
        },
        "id": "7nF9zAVZ6p7p"
      },
      "execution_count": 26,
      "outputs": [
        {
          "output_type": "execute_result",
          "data": {
            "text/plain": [
              "torch.Size([12000, 784])"
            ]
          },
          "metadata": {},
          "execution_count": 26
        }
      ]
    },
    {
      "cell_type": "markdown",
      "source": [
        "***Prepare labels***"
      ],
      "metadata": {
        "id": "y85cw9zH68Ad"
      }
    },
    {
      "cell_type": "markdown",
      "source": [
        "***Bags are 1 and Sneakers are 0; for probability calculation***"
      ],
      "metadata": {
        "id": "YselqN429PGq"
      }
    },
    {
      "cell_type": "code",
      "source": [
        "train_y = torch.tensor([1]*len(eight_tens) + [0]*len(seven_tens)).unsqueeze(1)\n",
        "train_x.shape,train_y.shape"
      ],
      "metadata": {
        "id": "ri3SbYcJ6aIa",
        "outputId": "0a03083e-d19e-4d86-aa8d-2a201ebb64a2",
        "colab": {
          "base_uri": "https://localhost:8080/"
        }
      },
      "execution_count": 27,
      "outputs": [
        {
          "output_type": "execute_result",
          "data": {
            "text/plain": [
              "(torch.Size([12000, 784]), torch.Size([12000, 1]))"
            ]
          },
          "metadata": {},
          "execution_count": 27
        }
      ]
    },
    {
      "cell_type": "markdown",
      "source": [
        "***Prepare training set tuple***"
      ],
      "metadata": {
        "id": "aYCyiwTa7hjL"
      }
    },
    {
      "cell_type": "code",
      "source": [
        "train_dset = list(zip(train_x,train_y))\n",
        "len(train_dset)"
      ],
      "metadata": {
        "id": "KvzyUPUP6epH",
        "outputId": "a44a6979-a3fe-4e49-c8ce-32df3fe35553",
        "colab": {
          "base_uri": "https://localhost:8080/"
        }
      },
      "execution_count": 28,
      "outputs": [
        {
          "output_type": "execute_result",
          "data": {
            "text/plain": [
              "12000"
            ]
          },
          "metadata": {},
          "execution_count": 28
        }
      ]
    },
    {
      "cell_type": "markdown",
      "source": [
        "***Use Dataloader to create batches***"
      ],
      "metadata": {
        "id": "iouPbq0_KJc0"
      }
    },
    {
      "cell_type": "code",
      "source": [
        "from fastai.vision.all import *\n",
        "dl = DataLoader(train_dset, batch_size=256)\n",
        "xb,yb = first(dl)\n",
        "xb.shape,yb.shape"
      ],
      "metadata": {
        "colab": {
          "base_uri": "https://localhost:8080/"
        },
        "id": "NfwsTjy2CdZP",
        "outputId": "c9dae580-38fb-4c0e-c7a1-022fca425c84"
      },
      "execution_count": 29,
      "outputs": [
        {
          "output_type": "execute_result",
          "data": {
            "text/plain": [
              "(torch.Size([256, 784]), torch.Size([256, 1]))"
            ]
          },
          "metadata": {},
          "execution_count": 29
        }
      ]
    },
    {
      "cell_type": "markdown",
      "source": [
        "*** Trying to do the same thing with only standard Python generator***"
      ],
      "metadata": {
        "id": "6BE1HWIRWytH"
      }
    },
    {
      "cell_type": "code",
      "source": [
        "# def data_loader(dataset, batch_size=256):\n",
        "#     \"\"\"Generator to yield batches of data.\"\"\"\n",
        "#     length = len(dataset)\n",
        "#     for idx in range(0, length, batch_size):\n",
        "#         batch = dataset[idx:min(idx + batch_size, length)]\n",
        "#         images, labels = zip(*batch)\n",
        "#         images_tensor = torch.stack(images)\n",
        "#         current_batch_size = len(labels) # for batches that are less than batch_size\n",
        "#         yield images_tensor, torch.tensor(labels).view(current_batch_size, -1)"
      ],
      "metadata": {
        "id": "xmadaGkHS1HZ"
      },
      "execution_count": 30,
      "outputs": []
    },
    {
      "cell_type": "code",
      "source": [
        "# dl = data_loader(train_dset, batch_size=256)\n",
        "# xb,yb = first(dl)\n",
        "# xb.shape,yb.shape"
      ],
      "metadata": {
        "id": "CLAOgFoBTCyx"
      },
      "execution_count": 31,
      "outputs": []
    },
    {
      "cell_type": "markdown",
      "source": [
        "***Repeat above steps for validation/test set***"
      ],
      "metadata": {
        "id": "ijnCksSM8Mts"
      }
    },
    {
      "cell_type": "code",
      "source": [
        "X_test.shape, y_test.shape"
      ],
      "metadata": {
        "id": "95IjkoXx9Dkx",
        "outputId": "f84f3046-9c9f-4257-b9c0-c496883633a4",
        "colab": {
          "base_uri": "https://localhost:8080/"
        }
      },
      "execution_count": 32,
      "outputs": [
        {
          "output_type": "execute_result",
          "data": {
            "text/plain": [
              "((10000, 784), (10000,))"
            ]
          },
          "metadata": {},
          "execution_count": 32
        }
      ]
    },
    {
      "cell_type": "code",
      "source": [
        "valid_eight_tens = prepare_tensors(X_test, y_test, 8)\n",
        "valid_eight_tens.shape"
      ],
      "metadata": {
        "outputId": "2da24bce-dc52-469f-b088-86bb2e2ea2c7",
        "colab": {
          "base_uri": "https://localhost:8080/"
        },
        "id": "7iHSIn9g_qyV"
      },
      "execution_count": 33,
      "outputs": [
        {
          "output_type": "execute_result",
          "data": {
            "text/plain": [
              "torch.Size([1000, 784])"
            ]
          },
          "metadata": {},
          "execution_count": 33
        }
      ]
    },
    {
      "cell_type": "code",
      "source": [
        "display_random_images(valid_eight_tens, [8]*len(valid_eight_tens), num_images=10)"
      ],
      "metadata": {
        "outputId": "367d56ec-eb73-4e59-f202-e65f72c3ae15",
        "colab": {
          "base_uri": "https://localhost:8080/",
          "height": 153
        },
        "id": "__sJ8dId_qyg"
      },
      "execution_count": 34,
      "outputs": [
        {
          "output_type": "display_data",
          "data": {
            "text/plain": [
              "<Figure size 1500x500 with 10 Axes>"
            ],
            "image/png": "[encoded data removed]"
          },
          "metadata": {}
        }
      ]
    },
    {
      "cell_type": "code",
      "source": [
        "valid_seven_tens = prepare_tensors(X_test, y_test, 7)\n",
        "valid_seven_tens.shape"
      ],
      "metadata": {
        "outputId": "e6336fa8-176b-4013-83c0-fe527af5a59e",
        "colab": {
          "base_uri": "https://localhost:8080/"
        },
        "id": "tEFB8LtG_qyf"
      },
      "execution_count": 35,
      "outputs": [
        {
          "output_type": "execute_result",
          "data": {
            "text/plain": [
              "torch.Size([1000, 784])"
            ]
          },
          "metadata": {},
          "execution_count": 35
        }
      ]
    },
    {
      "cell_type": "code",
      "source": [
        "display_random_images(valid_seven_tens, [7]*len(valid_seven_tens), num_images=10)"
      ],
      "metadata": {
        "colab": {
          "base_uri": "https://localhost:8080/",
          "height": 153
        },
        "id": "W0QZWtH4AgaS",
        "outputId": "3e7fb304-11f0-4f70-e50a-10b2b2ab3411"
      },
      "execution_count": 36,
      "outputs": [
        {
          "output_type": "display_data",
          "data": {
            "text/plain": [
              "<Figure size 1500x500 with 10 Axes>"
            ],
            "image/png": "[encoded data removed]"
          },
          "metadata": {}
        }
      ]
    },
    {
      "cell_type": "code",
      "source": [
        "valid_eight_tens = valid_eight_tens.float()/255\n",
        "valid_seven_tens = valid_seven_tens.float()/255\n",
        "valid_eight_tens.shape, valid_seven_tens.shape"
      ],
      "metadata": {
        "colab": {
          "base_uri": "https://localhost:8080/"
        },
        "id": "xUeF-dUtBW8E",
        "outputId": "aa2d306b-d1c0-4fc8-8619-78b3dfd7cbf2"
      },
      "execution_count": 37,
      "outputs": [
        {
          "output_type": "execute_result",
          "data": {
            "text/plain": [
              "(torch.Size([1000, 784]), torch.Size([1000, 784]))"
            ]
          },
          "metadata": {},
          "execution_count": 37
        }
      ]
    },
    {
      "cell_type": "code",
      "source": [
        "test_x = torch.cat([valid_eight_tens, valid_seven_tens])\n",
        "test_x.shape"
      ],
      "metadata": {
        "colab": {
          "base_uri": "https://localhost:8080/"
        },
        "id": "exDnvhUOBWuy",
        "outputId": "3a333403-a5e0-46aa-a8fa-db9159b0199f"
      },
      "execution_count": 38,
      "outputs": [
        {
          "output_type": "execute_result",
          "data": {
            "text/plain": [
              "torch.Size([2000, 784])"
            ]
          },
          "metadata": {},
          "execution_count": 38
        }
      ]
    },
    {
      "cell_type": "code",
      "source": [
        "test_y = tensor([1]*len(valid_eight_tens) + [0]*len(valid_seven_tens)).unsqueeze(1)\n",
        "test_x.shape,test_y.shape"
      ],
      "metadata": {
        "colab": {
          "base_uri": "https://localhost:8080/"
        },
        "id": "ueyLYexpB0dt",
        "outputId": "bca76929-395f-4289-8492-dd9ad2633482"
      },
      "execution_count": 39,
      "outputs": [
        {
          "output_type": "execute_result",
          "data": {
            "text/plain": [
              "(torch.Size([2000, 784]), torch.Size([2000, 1]))"
            ]
          },
          "metadata": {},
          "execution_count": 39
        }
      ]
    },
    {
      "cell_type": "code",
      "source": [
        "test_dset = list(zip(test_x,test_y))\n",
        "len(test_dset)"
      ],
      "metadata": {
        "colab": {
          "base_uri": "https://localhost:8080/"
        },
        "id": "ad_lb_UK_8Qp",
        "outputId": "b738e047-6e77-44ef-d031-fb0936a9f5fa"
      },
      "execution_count": 40,
      "outputs": [
        {
          "output_type": "execute_result",
          "data": {
            "text/plain": [
              "2000"
            ]
          },
          "metadata": {},
          "execution_count": 40
        }
      ]
    },
    {
      "cell_type": "code",
      "source": [
        "valid_dl = DataLoader(test_dset, batch_size=256)\n",
        "xb,yb = first(dl)\n",
        "xb.shape,yb.shape"
      ],
      "metadata": {
        "colab": {
          "base_uri": "https://localhost:8080/"
        },
        "id": "1MOiLFW4ChNB",
        "outputId": "c28ff285-c79a-4232-a1fe-377bd9eb0915"
      },
      "execution_count": 41,
      "outputs": [
        {
          "output_type": "execute_result",
          "data": {
            "text/plain": [
              "(torch.Size([256, 784]), torch.Size([256, 1]))"
            ]
          },
          "metadata": {},
          "execution_count": 41
        }
      ]
    },
    {
      "cell_type": "markdown",
      "source": [
        "***Prepare training loop***"
      ],
      "metadata": {
        "id": "GxEg6Z4DK9Mo"
      }
    },
    {
      "cell_type": "code",
      "execution_count": 42,
      "metadata": {
        "id": "qaPWn_ETSkAm"
      },
      "outputs": [],
      "source": [
        "def init_params(size, std=1.0): return (torch.randn(size)*std).requires_grad_()"
      ]
    },
    {
      "cell_type": "code",
      "execution_count": 43,
      "metadata": {
        "id": "XC6rnK9pSkA7"
      },
      "outputs": [],
      "source": [
        "weights = init_params((28*28,1))"
      ]
    },
    {
      "cell_type": "code",
      "execution_count": 44,
      "metadata": {
        "id": "hUXMfxx4SkA8"
      },
      "outputs": [],
      "source": [
        "bias = init_params(1)"
      ]
    },
    {
      "cell_type": "code",
      "execution_count": 45,
      "metadata": {
        "outputId": "7aff1882-d252-444d-a93a-bd573b1e9bc3",
        "colab": {
          "base_uri": "https://localhost:8080/"
        },
        "id": "E6EGRBfQSkA9"
      },
      "outputs": [
        {
          "output_type": "execute_result",
          "data": {
            "text/plain": [
              "tensor([-8.7457], grad_fn=<AddBackward0>)"
            ]
          },
          "metadata": {},
          "execution_count": 45
        }
      ],
      "source": [
        "(train_x[0]*weights.T).sum() + bias"
      ]
    },
    {
      "cell_type": "code",
      "source": [
        "def linear1(xb): return xb@weights + bias\n",
        "preds = linear1(train_x)\n",
        "preds"
      ],
      "metadata": {
        "id": "16BkG3-HY8EF",
        "colab": {
          "base_uri": "https://localhost:8080/"
        },
        "outputId": "3a774cc9-06e3-4f75-9445-8e4efb12af96"
      },
      "execution_count": 46,
      "outputs": [
        {
          "output_type": "execute_result",
          "data": {
            "text/plain": [
              "tensor([[ -8.7457],\n",
              "        [-22.8309],\n",
              "        [-18.2256],\n",
              "        ...,\n",
              "        [ -6.3686],\n",
              "        [ -7.3420],\n",
              "        [-10.2154]], grad_fn=<AddBackward0>)"
            ]
          },
          "metadata": {},
          "execution_count": 46
        }
      ]
    },
    {
      "cell_type": "code",
      "execution_count": 47,
      "metadata": {
        "id": "0M7rF-rUSvj0",
        "outputId": "9c6e67a6-cba3-4280-d779-d314b28c4ff0",
        "colab": {
          "base_uri": "https://localhost:8080/"
        }
      },
      "outputs": [
        {
          "output_type": "execute_result",
          "data": {
            "text/plain": [
              "tensor([[False],\n",
              "        [False],\n",
              "        [False],\n",
              "        ...,\n",
              "        [ True],\n",
              "        [ True],\n",
              "        [ True]])"
            ]
          },
          "metadata": {},
          "execution_count": 47
        }
      ],
      "source": [
        "corrects = (preds>0.0).float() == train_y\n",
        "corrects"
      ]
    },
    {
      "cell_type": "code",
      "source": [
        "batch = train_x[:4]\n",
        "batch.shape"
      ],
      "metadata": {
        "colab": {
          "base_uri": "https://localhost:8080/"
        },
        "id": "J_Pwk1TC-MRH",
        "outputId": "8ac0a511-cc52-4e77-869e-297a15a1c14d"
      },
      "execution_count": 48,
      "outputs": [
        {
          "output_type": "execute_result",
          "data": {
            "text/plain": [
              "torch.Size([4, 784])"
            ]
          },
          "metadata": {},
          "execution_count": 48
        }
      ]
    },
    {
      "cell_type": "code",
      "source": [
        "preds = linear1(batch)\n",
        "preds"
      ],
      "metadata": {
        "colab": {
          "base_uri": "https://localhost:8080/"
        },
        "id": "eH_JgfxJ-RNt",
        "outputId": "607e065c-8f82-4bc7-ef01-dd7ec171074a"
      },
      "execution_count": 49,
      "outputs": [
        {
          "output_type": "execute_result",
          "data": {
            "text/plain": [
              "tensor([[ -8.7457],\n",
              "        [-22.8309],\n",
              "        [-18.2256],\n",
              "        [-23.4894]], grad_fn=<AddBackward0>)"
            ]
          },
          "metadata": {},
          "execution_count": 49
        }
      ]
    },
    {
      "cell_type": "code",
      "source": [
        "def mnist_loss(predictions, targets):\n",
        "    predictions = predictions.sigmoid()\n",
        "    return torch.where(targets==1, 1-predictions, predictions).mean()"
      ],
      "metadata": {
        "id": "Zbzd2zyMVdBJ"
      },
      "execution_count": 50,
      "outputs": []
    },
    {
      "cell_type": "code",
      "source": [
        "loss = mnist_loss(preds, train_y[:4])\n",
        "loss"
      ],
      "metadata": {
        "colab": {
          "base_uri": "https://localhost:8080/"
        },
        "id": "kbLOjdkm94fr",
        "outputId": "bd6b5738-a83c-43fe-af62-612fd6460668"
      },
      "execution_count": 51,
      "outputs": [
        {
          "output_type": "execute_result",
          "data": {
            "text/plain": [
              "tensor(1.0000, grad_fn=<MeanBackward0>)"
            ]
          },
          "metadata": {},
          "execution_count": 51
        }
      ]
    },
    {
      "cell_type": "code",
      "source": [
        "def calc_grad(xb, yb, model):\n",
        "    preds = model(xb)\n",
        "    loss = mnist_loss(preds, yb)\n",
        "    loss.backward()"
      ],
      "metadata": {
        "id": "2viIjnFqVcN1"
      },
      "execution_count": 52,
      "outputs": []
    },
    {
      "cell_type": "code",
      "source": [
        "(preds>0.0).float() == train_y[:4]"
      ],
      "metadata": {
        "colab": {
          "base_uri": "https://localhost:8080/"
        },
        "id": "0VK1xwc2-1VE",
        "outputId": "6434ec3e-7c4f-437c-fed5-20fbfaa9bafc"
      },
      "execution_count": 53,
      "outputs": [
        {
          "output_type": "execute_result",
          "data": {
            "text/plain": [
              "tensor([[False],\n",
              "        [False],\n",
              "        [False],\n",
              "        [False]])"
            ]
          },
          "metadata": {},
          "execution_count": 53
        }
      ]
    },
    {
      "cell_type": "code",
      "source": [
        "def batch_accuracy(xb, yb):\n",
        "    preds = xb.sigmoid()\n",
        "    correct = (preds>0.5) == yb\n",
        "    return correct.float().mean()"
      ],
      "metadata": {
        "id": "QwA4ymZUWPek"
      },
      "execution_count": 54,
      "outputs": []
    },
    {
      "cell_type": "code",
      "source": [
        "batch_accuracy(linear1(batch), train_y[:4])"
      ],
      "metadata": {
        "colab": {
          "base_uri": "https://localhost:8080/"
        },
        "id": "BMa7xAha_RBQ",
        "outputId": "eade9577-6c28-4e4e-caf1-9c9eea9b1448"
      },
      "execution_count": 55,
      "outputs": [
        {
          "output_type": "execute_result",
          "data": {
            "text/plain": [
              "tensor(0.)"
            ]
          },
          "metadata": {},
          "execution_count": 55
        }
      ]
    },
    {
      "cell_type": "code",
      "source": [
        "def validate_epoch(model):\n",
        "    accs = [batch_accuracy(model(xb), yb) for xb,yb in valid_dl]\n",
        "    return round(torch.stack(accs).mean().item(), 4)"
      ],
      "metadata": {
        "id": "kIappyoZWIPA"
      },
      "execution_count": 56,
      "outputs": []
    },
    {
      "cell_type": "code",
      "source": [
        "validate_epoch(linear1)"
      ],
      "metadata": {
        "colab": {
          "base_uri": "https://localhost:8080/"
        },
        "id": "oQZ19gjh42eU",
        "outputId": "506f3163-8fae-4c47-feb9-8f1ad77b3609"
      },
      "execution_count": 57,
      "outputs": [
        {
          "output_type": "execute_result",
          "data": {
            "text/plain": [
              "0.5002"
            ]
          },
          "metadata": {},
          "execution_count": 57
        }
      ]
    },
    {
      "cell_type": "code",
      "source": [
        "def train_epoch(model, lr, params):\n",
        "    for xb,yb in dl:\n",
        "        calc_grad(xb, yb, model)\n",
        "        for p in params:\n",
        "            p.data -= p.grad*lr\n",
        "            p.grad.zero_()"
      ],
      "metadata": {
        "id": "D-n_CVQAUhLo"
      },
      "execution_count": 58,
      "outputs": []
    },
    {
      "cell_type": "code",
      "execution_count": 59,
      "metadata": {
        "id": "GUBl4bEoSvkO",
        "outputId": "6bd7b06d-399f-417d-d630-35d3e2edcd57",
        "colab": {
          "base_uri": "https://localhost:8080/"
        }
      },
      "outputs": [
        {
          "output_type": "execute_result",
          "data": {
            "text/plain": [
              "0.5111"
            ]
          },
          "metadata": {},
          "execution_count": 59
        }
      ],
      "source": [
        "lr = 1.\n",
        "params = weights,bias\n",
        "train_epoch(linear1, lr, params)\n",
        "validate_epoch(linear1)"
      ]
    },
    {
      "cell_type": "code",
      "source": [
        "for i in range(10):\n",
        "    train_epoch(linear1, lr, params)\n",
        "    print(validate_epoch(linear1), end=' ')"
      ],
      "metadata": {
        "colab": {
          "base_uri": "https://localhost:8080/"
        },
        "id": "rTOC67UnA9uB",
        "outputId": "c16ac834-788d-4d25-e754-cf88e9473b9d"
      },
      "execution_count": 60,
      "outputs": [
        {
          "output_type": "stream",
          "name": "stdout",
          "text": [
            "0.5127 0.5127 0.5122 0.5122 0.5127 0.5127 0.5127 0.5132 0.5132 0.5132 "
          ]
        }
      ]
    },
    {
      "cell_type": "markdown",
      "source": [
        "***NOTE that if at this step the accuraccy does not improve you messed up and should restart your Runtime***"
      ],
      "metadata": {
        "id": "XMcPHlLxMPl3"
      }
    },
    {
      "cell_type": "code",
      "source": [
        "def train_model(model, epochs, lr, params):\n",
        "    for i in range(epochs):\n",
        "        train_epoch(model, lr, params)\n",
        "        print(validate_epoch(model), end=' ')"
      ],
      "metadata": {
        "id": "qstIykm_TrBx"
      },
      "execution_count": 61,
      "outputs": []
    },
    {
      "cell_type": "code",
      "execution_count": 62,
      "metadata": {
        "id": "JjTNZLINSvkT",
        "colab": {
          "base_uri": "https://localhost:8080/"
        },
        "outputId": "94d76261-e134-4206-be35-1b50cc7c022e"
      },
      "outputs": [
        {
          "output_type": "stream",
          "name": "stdout",
          "text": [
            "0.5137 0.5142 0.5151 0.5156 0.6509 0.8265 0.8998 0.9301 0.9511 0.9594 "
          ]
        }
      ],
      "source": [
        "train_model(linear1, 10, lr, params)"
      ]
    },
    {
      "cell_type": "markdown",
      "source": [
        "***Now try a simple non-linear neural network***"
      ],
      "metadata": {
        "id": "K8QChh6xOAbP"
      }
    },
    {
      "cell_type": "code",
      "source": [
        "def init_params(size, std=1.0): return (torch.randn(size) * std).requires_grad_()\n",
        "\n",
        "def simple_net(xb):\n",
        "    res = xb @ w1 + b1                # Input Layer (784 neurons)\n",
        "    res = res.max(torch.tensor(0.0))  # Activation Function (ReLU) applied element-wise\n",
        "    res = res @ w2 + b2               # Output Layer (1 neuron)\n",
        "    return res"
      ],
      "metadata": {
        "id": "SV2yo6HCBj7p"
      },
      "execution_count": 63,
      "outputs": []
    },
    {
      "cell_type": "code",
      "source": [
        "w1 = init_params((28 * 28, 30))  # Weight matrix connecting 784 input neurons to 30 neurons\n",
        "b1 = init_params(30)             # Biases for the 30 neurons in the Activation Function layer\n",
        "w2 = init_params((30, 1))        # Weight matrix connecting 30 neurons to 1 output neuron\n",
        "b2 = init_params(1)              # Bias for the output neuron"
      ],
      "metadata": {
        "id": "buRqAjeTO36O"
      },
      "execution_count": 64,
      "outputs": []
    },
    {
      "cell_type": "markdown",
      "source": [
        "(28 * 28, 30): This is a tuple specifying the dimensions of the weight matrix. In neural networks, the weight matrix for a layer has dimensions (number of neurons in the current layer, number of neurons in the next layer). Here, it means that there are 28 * 28 (784) input neurons in the input layer, and these are connected to 30 neurons in the next layer."
      ],
      "metadata": {
        "id": "2q_8jn2GL9pi"
      }
    },
    {
      "cell_type": "code",
      "execution_count": 65,
      "metadata": {
        "id": "5SbrziBnBwHr",
        "colab": {
          "base_uri": "https://localhost:8080/"
        },
        "outputId": "ea6308ce-1b68-459a-9ab4-7d8b76c20860"
      },
      "outputs": [
        {
          "output_type": "execute_result",
          "data": {
            "text/plain": [
              "0.6235"
            ]
          },
          "metadata": {},
          "execution_count": 65
        }
      ],
      "source": [
        "lr = 1.\n",
        "params = [w1, b1, w2, b2]\n",
        "train_epoch(simple_net, lr, params)\n",
        "validate_epoch(simple_net)"
      ]
    },
    {
      "cell_type": "code",
      "source": [
        "train_model(simple_net, 40, lr, params)"
      ],
      "metadata": {
        "id": "B1AqQnWDB5bx",
        "colab": {
          "base_uri": "https://localhost:8080/"
        },
        "outputId": "17067d96-1de9-4208-823e-49bcf749e30d"
      },
      "execution_count": 66,
      "outputs": [
        {
          "output_type": "stream",
          "name": "stdout",
          "text": [
            "0.8091 0.8696 0.9077 0.9292 0.9409 0.9546 0.9604 0.9688 0.9707 0.9731 0.979 0.9814 0.9839 0.9868 0.9878 0.9888 0.9888 0.9888 0.9897 0.9902 0.9902 0.9907 0.9912 0.9912 0.9912 0.9917 0.9922 0.9922 0.9922 0.9927 0.9927 0.9927 0.9932 0.9932 0.9932 0.9937 0.9937 0.9941 0.9941 0.9941 "
          ]
        }
      ]
    },
    {
      "cell_type": "markdown",
      "source": [
        "***Homework : Make a prediction of a random image whether it is a bag or not a bag***\n"
      ],
      "metadata": {
        "id": "iNHAVE2VcYlY"
      }
    }
  ]
}