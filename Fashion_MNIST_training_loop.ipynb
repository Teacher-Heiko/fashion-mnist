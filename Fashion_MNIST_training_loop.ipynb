{
  "nbformat": 4,
  "nbformat_minor": 0,
  "metadata": {
    "colab": {
      "provenance": [],
      "authorship_tag": "ABX9TyO/yi1PmXRehE/OvPUsF9Wl",
      "include_colab_link": true
    },
    "kernelspec": {
      "name": "python3",
      "display_name": "Python 3"
    },
    "language_info": {
      "name": "python"
    }
  },
  "cells": [
    {
      "cell_type": "markdown",
      "metadata": {
        "id": "view-in-github",
        "colab_type": "text"
      },
      "source": [
        "<a href=\"https://colab.research.google.com/github/Teacher-Heiko/fashion-mnist/blob/master/Fashion_MNIST_training_loop.ipynb\" target=\"_parent\"><img src=\"https://colab.research.google.com/assets/colab-badge.svg\" alt=\"Open In Colab\"/></a>"
      ]
    },
    {
      "cell_type": "code",
      "source": [],
      "metadata": {
        "id": "S-k7Y7xI0Zhv"
      },
      "execution_count": 150,
      "outputs": []
    },
    {
      "cell_type": "markdown",
      "source": [],
      "metadata": {
        "id": "vEW3WRO_9U7g"
      }
    },
    {
      "cell_type": "markdown",
      "source": [
        "***Load repository and dataset***"
      ],
      "metadata": {
        "id": "VyheTpc-0TrU"
      }
    },
    {
      "cell_type": "code",
      "source": [
        "from google.colab import drive\n",
        "drive.mount('/content/drive')"
      ],
      "metadata": {
        "id": "vExo2zoQ_5rS",
        "outputId": "bdbbb624-e493-4055-c130-e36531942e44",
        "colab": {
          "base_uri": "https://localhost:8080/"
        }
      },
      "execution_count": 151,
      "outputs": [
        {
          "output_type": "stream",
          "name": "stdout",
          "text": [
            "Drive already mounted at /content/drive; to attempt to forcibly remount, call drive.mount(\"/content/drive\", force_remount=True).\n"
          ]
        }
      ]
    },
    {
      "cell_type": "code",
      "source": [
        "!git clone https://github.com/zalandoresearch/fashion-mnist"
      ],
      "metadata": {
        "id": "1nv1X5MEACPb",
        "outputId": "6f13dc7f-84db-4184-df1f-4e92ef4396b6",
        "colab": {
          "base_uri": "https://localhost:8080/"
        }
      },
      "execution_count": 152,
      "outputs": [
        {
          "output_type": "stream",
          "name": "stdout",
          "text": [
            "fatal: destination path 'fashion-mnist' already exists and is not an empty directory.\n"
          ]
        }
      ]
    },
    {
      "cell_type": "code",
      "source": [
        "import sys\n",
        "sys.path.append('fashion-mnist/utils')\n"
      ],
      "metadata": {
        "id": "KeZKYVjGB597"
      },
      "execution_count": 153,
      "outputs": []
    },
    {
      "cell_type": "code",
      "source": [
        "import mnist_reader # from utils folder\n",
        "X_train, y_train = mnist_reader.load_mnist('fashion-mnist/data/fashion', kind='train')\n",
        "X_test, y_test = mnist_reader.load_mnist('fashion-mnist/data/fashion', kind='t10k')"
      ],
      "metadata": {
        "id": "grDrb7LuCFkH"
      },
      "execution_count": 154,
      "outputs": []
    },
    {
      "cell_type": "code",
      "source": [
        "len(X_train)"
      ],
      "metadata": {
        "id": "eGMdZ1ySCkS_",
        "outputId": "6c5a4736-ca7c-4942-90c3-b8cbf777c99e",
        "colab": {
          "base_uri": "https://localhost:8080/"
        }
      },
      "execution_count": 155,
      "outputs": [
        {
          "output_type": "execute_result",
          "data": {
            "text/plain": [
              "60000"
            ]
          },
          "metadata": {},
          "execution_count": 155
        }
      ]
    },
    {
      "cell_type": "code",
      "source": [
        "type(X_train[0])"
      ],
      "metadata": {
        "id": "xMYWkXiQGLLL",
        "outputId": "40da5ad4-cbd4-4412-d15b-f6527d7fec62",
        "colab": {
          "base_uri": "https://localhost:8080/"
        }
      },
      "execution_count": 156,
      "outputs": [
        {
          "output_type": "execute_result",
          "data": {
            "text/plain": [
              "numpy.ndarray"
            ]
          },
          "metadata": {},
          "execution_count": 156
        }
      ]
    },
    {
      "cell_type": "code",
      "source": [
        "len(X_test)"
      ],
      "metadata": {
        "id": "eiWk7Ws_Co5f",
        "outputId": "f240baf8-639f-4b07-88ea-e5cac20648be",
        "colab": {
          "base_uri": "https://localhost:8080/"
        }
      },
      "execution_count": 157,
      "outputs": [
        {
          "output_type": "execute_result",
          "data": {
            "text/plain": [
              "10000"
            ]
          },
          "metadata": {},
          "execution_count": 157
        }
      ]
    },
    {
      "cell_type": "markdown",
      "source": [
        "***Prepare images of bags label 8***"
      ],
      "metadata": {
        "id": "_QZhArdU0iFf"
      }
    },
    {
      "cell_type": "code",
      "source": [
        "eights = []\n",
        "for index in range(len(y_train)) :\n",
        "  if y_train[index] == 8 :\n",
        "    eights.append(index)\n",
        "\n",
        "len(eights)"
      ],
      "metadata": {
        "colab": {
          "base_uri": "https://localhost:8080/"
        },
        "id": "FNYyB6UjDDzk",
        "outputId": "a958fc0b-4610-4688-9ecc-00e10e28acaf"
      },
      "execution_count": 158,
      "outputs": [
        {
          "output_type": "execute_result",
          "data": {
            "text/plain": [
              "6000"
            ]
          },
          "metadata": {},
          "execution_count": 158
        }
      ]
    },
    {
      "cell_type": "code",
      "source": [
        "\n",
        "images = [X_train[i] for i in eights]\n",
        "len(images)"
      ],
      "metadata": {
        "colab": {
          "base_uri": "https://localhost:8080/"
        },
        "id": "kzqRzVE6FkXB",
        "outputId": "074181aa-f26c-425b-a4e8-89b138dd5d20"
      },
      "execution_count": 159,
      "outputs": [
        {
          "output_type": "execute_result",
          "data": {
            "text/plain": [
              "6000"
            ]
          },
          "metadata": {},
          "execution_count": 159
        }
      ]
    },
    {
      "cell_type": "code",
      "source": [
        "import numpy as np\n",
        "imgs_8 = np.array(images)"
      ],
      "metadata": {
        "id": "tTg08O1tG7Kh"
      },
      "execution_count": 160,
      "outputs": []
    },
    {
      "cell_type": "code",
      "source": [],
      "metadata": {
        "id": "qr0exQ0DGCEw"
      },
      "execution_count": 160,
      "outputs": []
    },
    {
      "cell_type": "code",
      "source": [
        "import numpy as np\n",
        "import matplotlib.pyplot as plt\n",
        "\n",
        "def display_random_images(X, y, num_images=5):\n",
        "    \"\"\"\n",
        "    Display random images from the given dataset along with their labels.\n",
        "\n",
        "    Parameters:\n",
        "    - X: The dataset containing images.\n",
        "    - y: The corresponding labels.\n",
        "    - num_images: Number of random images to display (default is 5).\n",
        "    \"\"\"\n",
        "    # Generate random indices to select random images\n",
        "    random_indices = np.random.randint(0, len(X), num_images)\n",
        "\n",
        "    # Create a grid of subplots to display the images\n",
        "    fig, axes = plt.subplots(1, num_images, figsize=(15, 5))\n",
        "\n",
        "    for i, idx in enumerate(random_indices):\n",
        "        # Display the image\n",
        "        axes[i].imshow(X[idx].reshape(28, 28), cmap='gray')\n",
        "        axes[i].set_title(f\"Label: {y[idx]}\")\n",
        "        axes[i].axis('off')\n",
        "\n",
        "    plt.tight_layout()\n",
        "    plt.show()"
      ],
      "metadata": {
        "id": "5B7aKt3wFKSm"
      },
      "execution_count": 161,
      "outputs": []
    },
    {
      "cell_type": "code",
      "source": [
        "display_random_images(imgs_8, [8]*6000, num_images=10)"
      ],
      "metadata": {
        "colab": {
          "base_uri": "https://localhost:8080/",
          "height": 122
        },
        "id": "80WQ3J6dFQZ-",
        "outputId": "4f0fb741-f5d8-47ae-cb7c-396cc02eafbc"
      },
      "execution_count": 162,
      "outputs": [
        {
          "output_type": "display_data",
          "data": {
            "text/plain": [
              "<Figure size 1500x500 with 10 Axes>"
            ],
            "image/png": "[encoded data removed]"
          },
          "metadata": {}
        }
      ]
    },
    {
      "cell_type": "code",
      "source": [
        "imgs_8.shape"
      ],
      "metadata": {
        "id": "dMlASMXsJAe3",
        "outputId": "ff9b61cc-a516-404e-de76-6fae7026774b",
        "colab": {
          "base_uri": "https://localhost:8080/"
        }
      },
      "execution_count": 163,
      "outputs": [
        {
          "output_type": "execute_result",
          "data": {
            "text/plain": [
              "(6000, 784)"
            ]
          },
          "metadata": {},
          "execution_count": 163
        }
      ]
    },
    {
      "cell_type": "code",
      "source": [
        "nines = []\n",
        "for index in range(len(y_train)) :\n",
        "  if y_train[index] == 9 :\n",
        "    nines.append(index)\n",
        "\n",
        "len(nines)"
      ],
      "metadata": {
        "outputId": "0a673960-c21a-41db-c810-0e8f4de9ca3f",
        "colab": {
          "base_uri": "https://localhost:8080/"
        },
        "id": "V6fEltQcNCe8"
      },
      "execution_count": 164,
      "outputs": [
        {
          "output_type": "execute_result",
          "data": {
            "text/plain": [
              "6000"
            ]
          },
          "metadata": {},
          "execution_count": 164
        }
      ]
    },
    {
      "cell_type": "code",
      "source": [
        "\n",
        "images = [X_train[i] for i in nines]\n",
        "len(images)"
      ],
      "metadata": {
        "outputId": "6b930a26-ead1-42c4-b00d-034814fc3fa9",
        "colab": {
          "base_uri": "https://localhost:8080/"
        },
        "id": "z5FFN2F9NQ1G"
      },
      "execution_count": 165,
      "outputs": [
        {
          "output_type": "execute_result",
          "data": {
            "text/plain": [
              "6000"
            ]
          },
          "metadata": {},
          "execution_count": 165
        }
      ]
    },
    {
      "cell_type": "code",
      "source": [
        "\n",
        "imgs_9 = np.array(images)"
      ],
      "metadata": {
        "id": "dh39Zce-NQ1H"
      },
      "execution_count": 166,
      "outputs": []
    },
    {
      "cell_type": "code",
      "source": [
        "display_random_images(imgs_9, [9]*6000, num_images=10)"
      ],
      "metadata": {
        "outputId": "8ab6afd3-a8ba-49f9-84f5-8db3564277c3",
        "colab": {
          "base_uri": "https://localhost:8080/",
          "height": 122
        },
        "id": "37gCJB-PNkbn"
      },
      "execution_count": 167,
      "outputs": [
        {
          "output_type": "display_data",
          "data": {
            "text/plain": [
              "<Figure size 1500x500 with 10 Axes>"
            ],
            "image/png": "[encoded data removed]"
          },
          "metadata": {}
        }
      ]
    },
    {
      "cell_type": "code",
      "source": [
        "import torch\n",
        "eights_tens = torch.tensor(imgs_8)\n",
        "eights_tens.shape"
      ],
      "metadata": {
        "colab": {
          "base_uri": "https://localhost:8080/"
        },
        "id": "Fz9CaO-2OLER",
        "outputId": "2a624a88-89c7-4d8c-86fa-a5676daa3216"
      },
      "execution_count": 168,
      "outputs": [
        {
          "output_type": "execute_result",
          "data": {
            "text/plain": [
              "torch.Size([6000, 784])"
            ]
          },
          "metadata": {},
          "execution_count": 168
        }
      ]
    },
    {
      "cell_type": "code",
      "source": [
        "\n",
        "nines_tens = torch.tensor(imgs_9).view(-1, 28*28)\n",
        "nines_tens.shape"
      ],
      "metadata": {
        "id": "VjyxKSSSOlLG",
        "outputId": "208d5466-e7ce-45ed-fb84-172fda7aff0a",
        "colab": {
          "base_uri": "https://localhost:8080/"
        }
      },
      "execution_count": 169,
      "outputs": [
        {
          "output_type": "execute_result",
          "data": {
            "text/plain": [
              "torch.Size([6000, 784])"
            ]
          },
          "metadata": {},
          "execution_count": 169
        }
      ]
    },
    {
      "cell_type": "code",
      "source": [
        "eights_tens = eights_tens.float()/255\n",
        "nines_tens = nines_tens.float()/255"
      ],
      "metadata": {
        "id": "D7fL4B6pQNLR"
      },
      "execution_count": 170,
      "outputs": []
    },
    {
      "cell_type": "code",
      "source": [],
      "metadata": {
        "id": "6iDMZj0L8n-_"
      },
      "execution_count": 170,
      "outputs": []
    },
    {
      "cell_type": "code",
      "source": [
        "display_random_images(nines_tens, [9]*6000, num_images=10)"
      ],
      "metadata": {
        "id": "5OV95YIh8cmu",
        "outputId": "8cda7003-3316-4f17-e633-8f866f0370d5",
        "colab": {
          "base_uri": "https://localhost:8080/",
          "height": 122
        }
      },
      "execution_count": 171,
      "outputs": [
        {
          "output_type": "display_data",
          "data": {
            "text/plain": [
              "<Figure size 1500x500 with 10 Axes>"
            ],
            "image/png": "[encoded data removed]"
          },
          "metadata": {}
        }
      ]
    },
    {
      "cell_type": "code",
      "source": [
        "\n",
        "train_x = torch.cat([eights_tens, nines_tens])\n",
        "train_x.shape"
      ],
      "metadata": {
        "id": "3j6tSP8rJtYf",
        "outputId": "c06b5445-0a65-497f-df10-3a9eb47495bc",
        "colab": {
          "base_uri": "https://localhost:8080/"
        }
      },
      "execution_count": 172,
      "outputs": [
        {
          "output_type": "execute_result",
          "data": {
            "text/plain": [
              "torch.Size([12000, 784])"
            ]
          },
          "metadata": {},
          "execution_count": 172
        }
      ]
    },
    {
      "cell_type": "code",
      "source": [
        "train_y = torch.tensor([8]*len(eights) + [9]*len(nines)).unsqueeze(1)\n",
        "train_x.shape,train_y.shape"
      ],
      "metadata": {
        "id": "mJAJgmZwPImq",
        "outputId": "eafbacf5-0c01-4617-e66e-02149a8a93cb",
        "colab": {
          "base_uri": "https://localhost:8080/"
        }
      },
      "execution_count": 173,
      "outputs": [
        {
          "output_type": "execute_result",
          "data": {
            "text/plain": [
              "(torch.Size([12000, 784]), torch.Size([12000, 1]))"
            ]
          },
          "metadata": {},
          "execution_count": 173
        }
      ]
    },
    {
      "cell_type": "code",
      "source": [
        "len(train_y)"
      ],
      "metadata": {
        "colab": {
          "base_uri": "https://localhost:8080/"
        },
        "id": "fSuT_gxfa0Ns",
        "outputId": "342b1a58-731e-4097-84a3-522fbec52f96"
      },
      "execution_count": 174,
      "outputs": [
        {
          "output_type": "execute_result",
          "data": {
            "text/plain": [
              "12000"
            ]
          },
          "metadata": {},
          "execution_count": 174
        }
      ]
    },
    {
      "cell_type": "code",
      "source": [
        "dset = list(zip(train_x,train_y))\n",
        "x,y = dset[0]\n",
        "x.shape,y"
      ],
      "metadata": {
        "id": "JeYX8nVRMTgY",
        "outputId": "ee6936df-5262-4b65-ea67-94c85380e7b4",
        "colab": {
          "base_uri": "https://localhost:8080/"
        }
      },
      "execution_count": 175,
      "outputs": [
        {
          "output_type": "execute_result",
          "data": {
            "text/plain": [
              "(torch.Size([784]), tensor([8]))"
            ]
          },
          "metadata": {},
          "execution_count": 175
        }
      ]
    },
    {
      "cell_type": "code",
      "source": [
        "dl = DataLoader(dset, batch_size=256)"
      ],
      "metadata": {
        "id": "ZvGBybAKzbVs"
      },
      "execution_count": 177,
      "outputs": []
    },
    {
      "cell_type": "code",
      "execution_count": 178,
      "metadata": {
        "id": "xCJco2sXSvjw"
      },
      "outputs": [],
      "source": [
        "def init_params(size, std=1.0): return (torch.randn(size)*std).requires_grad_()"
      ]
    },
    {
      "cell_type": "code",
      "source": [
        "y.shape\n"
      ],
      "metadata": {
        "id": "TtvJo8fgRfCo",
        "outputId": "d9f48b20-cbd0-4e9e-ad2c-fc3ef1814bf2",
        "colab": {
          "base_uri": "https://localhost:8080/"
        }
      },
      "execution_count": 179,
      "outputs": [
        {
          "output_type": "execute_result",
          "data": {
            "text/plain": [
              "torch.Size([1])"
            ]
          },
          "metadata": {},
          "execution_count": 179
        }
      ]
    },
    {
      "cell_type": "code",
      "source": [
        "len(y)"
      ],
      "metadata": {
        "id": "e90crx-Eat-3",
        "outputId": "58630e83-36c5-47e6-fa9f-d7a4015d4c74",
        "colab": {
          "base_uri": "https://localhost:8080/"
        }
      },
      "execution_count": 180,
      "outputs": [
        {
          "output_type": "execute_result",
          "data": {
            "text/plain": [
              "1"
            ]
          },
          "metadata": {},
          "execution_count": 180
        }
      ]
    },
    {
      "cell_type": "code",
      "source": [
        "y[:10]"
      ],
      "metadata": {
        "id": "JH6oKOvfRzu8",
        "outputId": "25e079b3-94b6-49be-ef77-1fedf7382554",
        "colab": {
          "base_uri": "https://localhost:8080/"
        }
      },
      "execution_count": 181,
      "outputs": [
        {
          "output_type": "execute_result",
          "data": {
            "text/plain": [
              "tensor([8])"
            ]
          },
          "metadata": {},
          "execution_count": 181
        }
      ]
    },
    {
      "cell_type": "markdown",
      "source": [
        "***Function to prepare tensors***"
      ],
      "metadata": {
        "id": "pexcKTh81j_Q"
      }
    },
    {
      "cell_type": "code",
      "source": [
        "def prepare_tensors(X,y, label) :\n",
        "  \"\"\"\n",
        "  X = training or validation set\n",
        "  y = label set\n",
        "  label = Fashion MNIST label e.g. 8 is bags\n",
        "  \"\"\"\n",
        "  indices = []\n",
        "  for index in range(len(y)) :\n",
        "    if y[index] == label :\n",
        "      indices.append(index)\n",
        "\n",
        "  images = np.array([X[i] for i in indices])\n",
        "\n",
        "\n",
        "  return torch.tensor(images).view(-1, 28*28)"
      ],
      "metadata": {
        "id": "dgvaFjDz1qDx"
      },
      "execution_count": 182,
      "outputs": []
    },
    {
      "cell_type": "code",
      "source": [
        "eight_tens = prepare_tensors(X_train, y_train, 8)\n",
        "eight_tens.shape"
      ],
      "metadata": {
        "id": "mPdHnH0d3mpk",
        "outputId": "bc4b30b2-b354-4a13-9b6a-ad144aad4987",
        "colab": {
          "base_uri": "https://localhost:8080/"
        }
      },
      "execution_count": 183,
      "outputs": [
        {
          "output_type": "execute_result",
          "data": {
            "text/plain": [
              "torch.Size([6000, 784])"
            ]
          },
          "metadata": {},
          "execution_count": 183
        }
      ]
    },
    {
      "cell_type": "code",
      "source": [
        "nine_tens = prepare_tensors(X_train, y_train, 9)\n",
        "nine_tens.shape"
      ],
      "metadata": {
        "id": "IcPzd-m45Dlb",
        "outputId": "e990b4c4-7ecd-4f60-f072-58ae0c8e94be",
        "colab": {
          "base_uri": "https://localhost:8080/"
        }
      },
      "execution_count": 184,
      "outputs": [
        {
          "output_type": "execute_result",
          "data": {
            "text/plain": [
              "torch.Size([6000, 784])"
            ]
          },
          "metadata": {},
          "execution_count": 184
        }
      ]
    },
    {
      "cell_type": "code",
      "source": [
        "display_random_images(eight_tens, [8]*len(eight_tens), num_images=10)"
      ],
      "metadata": {
        "id": "6ASmaknZ82tU",
        "outputId": "bf935527-7d83-40c6-d3b4-7fb46e7c22e8",
        "colab": {
          "base_uri": "https://localhost:8080/",
          "height": 122
        }
      },
      "execution_count": 185,
      "outputs": [
        {
          "output_type": "display_data",
          "data": {
            "text/plain": [
              "<Figure size 1500x500 with 10 Axes>"
            ],
            "image/png": "[encoded data removed]"
          },
          "metadata": {}
        }
      ]
    },
    {
      "cell_type": "code",
      "source": [
        "display_random_images(nines_tens, [9]*len(nine_tens), num_images=10)"
      ],
      "metadata": {
        "id": "EmbF-iYp84WE",
        "outputId": "c2307d52-2642-4d40-b85d-3a0646b9230d",
        "colab": {
          "base_uri": "https://localhost:8080/",
          "height": 122
        }
      },
      "execution_count": 186,
      "outputs": [
        {
          "output_type": "display_data",
          "data": {
            "text/plain": [
              "<Figure size 1500x500 with 10 Axes>"
            ],
            "image/png": "[encoded data removed]"
          },
          "metadata": {}
        }
      ]
    },
    {
      "cell_type": "markdown",
      "source": [
        "***Normalize***"
      ],
      "metadata": {
        "id": "pWA-WFvm6nFe"
      }
    },
    {
      "cell_type": "code",
      "source": [
        "eight_tens = eight_tens.float()/255\n",
        "nine_tens = nine_tens.float()/255\n",
        "eight_tens.shape, nine_tens.shape"
      ],
      "metadata": {
        "id": "gzmQ7Rnv1qD9",
        "outputId": "66d8b911-7d40-4047-bb2c-1f7944c5ff83",
        "colab": {
          "base_uri": "https://localhost:8080/"
        }
      },
      "execution_count": 187,
      "outputs": [
        {
          "output_type": "execute_result",
          "data": {
            "text/plain": [
              "(torch.Size([6000, 784]), torch.Size([6000, 784]))"
            ]
          },
          "metadata": {},
          "execution_count": 187
        }
      ]
    },
    {
      "cell_type": "code",
      "source": [
        "train_x = torch.cat([eight_tens, nine_tens]).view(-1, 28*28)\n",
        "train_x.shape"
      ],
      "metadata": {
        "outputId": "2992c074-f2a7-4744-d4d3-d4adf2754865",
        "colab": {
          "base_uri": "https://localhost:8080/"
        },
        "id": "7nF9zAVZ6p7p"
      },
      "execution_count": 188,
      "outputs": [
        {
          "output_type": "execute_result",
          "data": {
            "text/plain": [
              "torch.Size([12000, 784])"
            ]
          },
          "metadata": {},
          "execution_count": 188
        }
      ]
    },
    {
      "cell_type": "markdown",
      "source": [
        "***Prepare labels***"
      ],
      "metadata": {
        "id": "y85cw9zH68Ad"
      }
    },
    {
      "cell_type": "code",
      "source": [
        "train_y = tensor([8]*len(eight_tens) + [9]*len(nine_tens)).unsqueeze(1)\n",
        "train_x.shape,train_y.shape"
      ],
      "metadata": {
        "id": "ri3SbYcJ6aIa",
        "outputId": "1e83730d-d29a-450c-cb69-0e8c969b33da",
        "colab": {
          "base_uri": "https://localhost:8080/"
        }
      },
      "execution_count": 189,
      "outputs": [
        {
          "output_type": "execute_result",
          "data": {
            "text/plain": [
              "(torch.Size([12000, 784]), torch.Size([12000, 1]))"
            ]
          },
          "metadata": {},
          "execution_count": 189
        }
      ]
    },
    {
      "cell_type": "markdown",
      "source": [
        "***Prepare training set tuple***"
      ],
      "metadata": {
        "id": "aYCyiwTa7hjL"
      }
    },
    {
      "cell_type": "code",
      "source": [
        "train_dset = list(zip(train_x,train_y))\n",
        "len(train_dset)"
      ],
      "metadata": {
        "id": "KvzyUPUP6epH",
        "outputId": "fc312c52-094c-49bd-d9f0-5b37c43d608e",
        "colab": {
          "base_uri": "https://localhost:8080/"
        }
      },
      "execution_count": 190,
      "outputs": [
        {
          "output_type": "execute_result",
          "data": {
            "text/plain": [
              "12000"
            ]
          },
          "metadata": {},
          "execution_count": 190
        }
      ]
    },
    {
      "cell_type": "markdown",
      "source": [
        "***Repeat for validation/test set***"
      ],
      "metadata": {
        "id": "ijnCksSM8Mts"
      }
    },
    {
      "cell_type": "code",
      "source": [
        "X_test.shape, y_test.shape"
      ],
      "metadata": {
        "id": "95IjkoXx9Dkx",
        "outputId": "06ef5807-f0fc-49c5-86a6-11030fc01d1f",
        "colab": {
          "base_uri": "https://localhost:8080/"
        }
      },
      "execution_count": 191,
      "outputs": [
        {
          "output_type": "execute_result",
          "data": {
            "text/plain": [
              "((10000, 784), (10000,))"
            ]
          },
          "metadata": {},
          "execution_count": 191
        }
      ]
    },
    {
      "cell_type": "code",
      "source": [
        "valid_eight_tens = prepare_tensors(X_test, y_test, 8)\n",
        "valid_eight_tens.shape"
      ],
      "metadata": {
        "id": "v1Dbn66b9DYC",
        "colab": {
          "base_uri": "https://localhost:8080/"
        },
        "outputId": "c79e6371-8469-4815-c9de-b122243a2008"
      },
      "execution_count": 192,
      "outputs": [
        {
          "output_type": "execute_result",
          "data": {
            "text/plain": [
              "torch.Size([1000, 784])"
            ]
          },
          "metadata": {},
          "execution_count": 192
        }
      ]
    },
    {
      "cell_type": "code",
      "source": [
        "valid_nine_tens = prepare_tensors(X_test, y_test, 8)\n",
        "valid_nine_tens.shape"
      ],
      "metadata": {
        "id": "7Bn_sQs0HB1_",
        "outputId": "e6cf69ba-daae-4021-9e2c-8537a853d314",
        "colab": {
          "base_uri": "https://localhost:8080/"
        }
      },
      "execution_count": 193,
      "outputs": [
        {
          "output_type": "execute_result",
          "data": {
            "text/plain": [
              "torch.Size([1000, 784])"
            ]
          },
          "metadata": {},
          "execution_count": 193
        }
      ]
    },
    {
      "cell_type": "code",
      "source": [
        "display_random_images(valid_eight_tens, [8]*len(valid_eight_tens), num_images=10)"
      ],
      "metadata": {
        "outputId": "4bb2aff0-37cf-4154-9b14-54d3eb972218",
        "colab": {
          "base_uri": "https://localhost:8080/",
          "height": 122
        },
        "id": "5It2iIKjIP0o"
      },
      "execution_count": 194,
      "outputs": [
        {
          "output_type": "display_data",
          "data": {
            "text/plain": [
              "<Figure size 1500x500 with 10 Axes>"
            ],
            "image/png": "[encoded data removed]"
          },
          "metadata": {}
        }
      ]
    },
    {
      "cell_type": "code",
      "source": [
        "display_random_images(valid_nine_tens, [9]*len(valid_nine_tens), num_images=10)"
      ],
      "metadata": {
        "id": "tOFEeVzZ9DMW",
        "outputId": "75dc03af-c00a-4496-e1c4-08720f8fd46f",
        "colab": {
          "base_uri": "https://localhost:8080/",
          "height": 122
        }
      },
      "execution_count": 195,
      "outputs": [
        {
          "output_type": "display_data",
          "data": {
            "text/plain": [
              "<Figure size 1500x500 with 10 Axes>"
            ],
            "image/png": "[encoded data removed]"
          },
          "metadata": {}
        }
      ]
    },
    {
      "cell_type": "code",
      "source": [
        "valid_eight_tens = valid_eight_tens.float()/255\n",
        "valid_nine_tens = valid_nine_tens.float()/255\n",
        "valid_eight_tens.shape, valid_nine_tens.shape"
      ],
      "metadata": {
        "id": "53NFCBjUJd8e",
        "outputId": "4d40cae3-fe6b-4a36-a3eb-b534a00ec8d3",
        "colab": {
          "base_uri": "https://localhost:8080/"
        }
      },
      "execution_count": 196,
      "outputs": [
        {
          "output_type": "execute_result",
          "data": {
            "text/plain": [
              "(torch.Size([1000, 784]), torch.Size([1000, 784]))"
            ]
          },
          "metadata": {},
          "execution_count": 196
        }
      ]
    },
    {
      "cell_type": "code",
      "source": [
        "test_x = torch.cat([valid_eight_tens, valid_nine_tens])\n",
        "test_x.shape"
      ],
      "metadata": {
        "id": "YryCEViSJd4O",
        "outputId": "723d7097-ad1e-49db-de78-fd0815f40cce",
        "colab": {
          "base_uri": "https://localhost:8080/"
        }
      },
      "execution_count": 197,
      "outputs": [
        {
          "output_type": "execute_result",
          "data": {
            "text/plain": [
              "torch.Size([2000, 784])"
            ]
          },
          "metadata": {},
          "execution_count": 197
        }
      ]
    },
    {
      "cell_type": "code",
      "source": [
        "test_y = tensor([8]*len(valid_eight_tens) + [9]*len(valid_nine_tens)).unsqueeze(1)\n",
        "test_x.shape,test_y.shape"
      ],
      "metadata": {
        "id": "-OQ3vF1RJdye",
        "outputId": "7a0e8411-bbd3-454e-b465-312cb96a754d",
        "colab": {
          "base_uri": "https://localhost:8080/"
        }
      },
      "execution_count": 198,
      "outputs": [
        {
          "output_type": "execute_result",
          "data": {
            "text/plain": [
              "(torch.Size([2000, 784]), torch.Size([2000, 1]))"
            ]
          },
          "metadata": {},
          "execution_count": 198
        }
      ]
    },
    {
      "cell_type": "code",
      "source": [
        "test_dset = list(zip(test_x,test_y))\n",
        "len(test_dset)"
      ],
      "metadata": {
        "id": "mstvwf3uJdvH",
        "outputId": "f610b8a3-e20a-4c25-9934-e2a3d738f15a",
        "colab": {
          "base_uri": "https://localhost:8080/"
        }
      },
      "execution_count": 199,
      "outputs": [
        {
          "output_type": "execute_result",
          "data": {
            "text/plain": [
              "2000"
            ]
          },
          "metadata": {},
          "execution_count": 199
        }
      ]
    },
    {
      "cell_type": "markdown",
      "source": [
        "***Prepare training loop***\n"
      ],
      "metadata": {
        "id": "pwGg2P7JOxAc"
      }
    },
    {
      "cell_type": "code",
      "source": [
        "def mnist_loss(predictions, targets):\n",
        "    predictions = predictions.sigmoid()\n",
        "    return torch.where(targets==1, 1-predictions, predictions).mean()"
      ],
      "metadata": {
        "id": "Zbzd2zyMVdBJ"
      },
      "execution_count": 326,
      "outputs": []
    },
    {
      "cell_type": "code",
      "execution_count": 357,
      "metadata": {
        "id": "qaPWn_ETSkAm"
      },
      "outputs": [],
      "source": [
        "def init_params(size, std=1.0): return (torch.randn(size)*std).requires_grad_()"
      ]
    },
    {
      "cell_type": "code",
      "execution_count": 358,
      "metadata": {
        "id": "XC6rnK9pSkA7"
      },
      "outputs": [],
      "source": [
        "weights = init_params((28*28,1))"
      ]
    },
    {
      "cell_type": "code",
      "execution_count": 359,
      "metadata": {
        "id": "hUXMfxx4SkA8"
      },
      "outputs": [],
      "source": [
        "bias = init_params(1)"
      ]
    },
    {
      "cell_type": "code",
      "source": [
        "params = weights,bias"
      ],
      "metadata": {
        "id": "f4UVB5mGMzxx"
      },
      "execution_count": 360,
      "outputs": []
    },
    {
      "cell_type": "code",
      "source": [
        "dl = DataLoader(train_dset, batch_size=256)\n",
        "xb,yb = first(dl)\n",
        "xb.shape,yb.shape"
      ],
      "metadata": {
        "id": "CzEmONb6TE8T",
        "outputId": "c5f92bf0-f98e-4d2f-9c33-7c0548099919",
        "colab": {
          "base_uri": "https://localhost:8080/"
        }
      },
      "execution_count": 361,
      "outputs": [
        {
          "output_type": "execute_result",
          "data": {
            "text/plain": [
              "(torch.Size([256, 784]), torch.Size([256, 1]))"
            ]
          },
          "metadata": {},
          "execution_count": 361
        }
      ]
    },
    {
      "cell_type": "code",
      "source": [
        "valid_dl = DataLoader(test_dset, batch_size=256)\n",
        "xb,yb = first(valid_dl)\n",
        "xb.shape,yb.shape"
      ],
      "metadata": {
        "id": "3HWf1fXwNios",
        "outputId": "2ee17816-36a6-4cad-8e3f-2dee7e0dbe07",
        "colab": {
          "base_uri": "https://localhost:8080/"
        }
      },
      "execution_count": 362,
      "outputs": [
        {
          "output_type": "execute_result",
          "data": {
            "text/plain": [
              "(torch.Size([256, 784]), torch.Size([256, 1]))"
            ]
          },
          "metadata": {},
          "execution_count": 362
        }
      ]
    },
    {
      "cell_type": "code",
      "source": [
        "def linear1(xb): return xb@weights + bias"
      ],
      "metadata": {
        "id": "16BkG3-HY8EF"
      },
      "execution_count": 363,
      "outputs": []
    },
    {
      "cell_type": "code",
      "source": [
        "batch = train_x[0:4]\n",
        "batch.shape"
      ],
      "metadata": {
        "id": "x0_ScHVSOEIJ",
        "outputId": "c45588e0-1fac-4be2-a212-979f25efb880",
        "colab": {
          "base_uri": "https://localhost:8080/"
        }
      },
      "execution_count": 364,
      "outputs": [
        {
          "output_type": "execute_result",
          "data": {
            "text/plain": [
              "torch.Size([4, 784])"
            ]
          },
          "metadata": {},
          "execution_count": 364
        }
      ]
    },
    {
      "cell_type": "code",
      "source": [
        "batch"
      ],
      "metadata": {
        "id": "M_l0oGgfcvpV",
        "outputId": "7d662b62-80b3-44a6-b5a5-3d5246f8f322",
        "colab": {
          "base_uri": "https://localhost:8080/"
        }
      },
      "execution_count": 371,
      "outputs": [
        {
          "output_type": "execute_result",
          "data": {
            "text/plain": [
              "tensor([[0., 0., 0.,  ..., 0., 0., 0.],\n",
              "        [0., 0., 0.,  ..., 0., 0., 0.],\n",
              "        [0., 0., 0.,  ..., 0., 0., 0.],\n",
              "        [0., 0., 0.,  ..., 0., 0., 0.]])"
            ]
          },
          "metadata": {},
          "execution_count": 371
        }
      ]
    },
    {
      "cell_type": "code",
      "source": [
        "preds = linear1(batch)\n",
        "preds"
      ],
      "metadata": {
        "id": "EITMKsw8RntK",
        "outputId": "350136c3-66d0-4cb9-ce5c-dd620f347bb9",
        "colab": {
          "base_uri": "https://localhost:8080/"
        }
      },
      "execution_count": 365,
      "outputs": [
        {
          "output_type": "execute_result",
          "data": {
            "text/plain": [
              "tensor([[-20.6698],\n",
              "        [-10.1688],\n",
              "        [  0.7616],\n",
              "        [-21.9145]], grad_fn=<AddBackward0>)"
            ]
          },
          "metadata": {},
          "execution_count": 365
        }
      ]
    },
    {
      "cell_type": "code",
      "source": [
        "preds"
      ],
      "metadata": {
        "id": "Txc5QoTpbzTx",
        "outputId": "c142a66c-a91e-441a-c64d-5eb0780938e1",
        "colab": {
          "base_uri": "https://localhost:8080/"
        }
      },
      "execution_count": 369,
      "outputs": [
        {
          "output_type": "execute_result",
          "data": {
            "text/plain": [
              "tensor([[-20.6698],\n",
              "        [-10.1688],\n",
              "        [  0.7616],\n",
              "        [-21.9145]], grad_fn=<AddBackward0>)"
            ]
          },
          "metadata": {},
          "execution_count": 369
        }
      ]
    },
    {
      "cell_type": "code",
      "source": [
        "train_y[:4]"
      ],
      "metadata": {
        "id": "HW8Etv0Xb4Wm",
        "outputId": "3ebf97ac-d30c-4e2b-b03a-5e9057eea37a",
        "colab": {
          "base_uri": "https://localhost:8080/"
        }
      },
      "execution_count": 370,
      "outputs": [
        {
          "output_type": "execute_result",
          "data": {
            "text/plain": [
              "tensor([[8],\n",
              "        [8],\n",
              "        [8],\n",
              "        [8]])"
            ]
          },
          "metadata": {},
          "execution_count": 370
        }
      ]
    },
    {
      "cell_type": "code",
      "source": [
        "(preds>0.0).float() == train_y[:4]"
      ],
      "metadata": {
        "id": "1gtWlWdBbRGH",
        "outputId": "8e8a2654-f226-4303-d01c-7704990e25aa",
        "colab": {
          "base_uri": "https://localhost:8080/"
        }
      },
      "execution_count": 366,
      "outputs": [
        {
          "output_type": "execute_result",
          "data": {
            "text/plain": [
              "tensor([[False],\n",
              "        [False],\n",
              "        [False],\n",
              "        [False]])"
            ]
          },
          "metadata": {},
          "execution_count": 366
        }
      ]
    },
    {
      "cell_type": "code",
      "source": [
        "loss = mnist_loss(preds, train_y[:4])\n",
        "loss"
      ],
      "metadata": {
        "id": "CKsntnkbRsfD",
        "outputId": "ca717c6a-8062-44f4-b8ce-1d1c01ca9726",
        "colab": {
          "base_uri": "https://localhost:8080/"
        }
      },
      "execution_count": 367,
      "outputs": [
        {
          "output_type": "execute_result",
          "data": {
            "text/plain": [
              "tensor(0.1704, grad_fn=<MeanBackward0>)"
            ]
          },
          "metadata": {},
          "execution_count": 367
        }
      ]
    },
    {
      "cell_type": "code",
      "source": [
        "def calc_grad(xb, yb, model):\n",
        "    preds = model(xb)\n",
        "    loss = mnist_loss(preds, yb)\n",
        "    loss.backward()"
      ],
      "metadata": {
        "id": "2viIjnFqVcN1"
      },
      "execution_count": 368,
      "outputs": []
    },
    {
      "cell_type": "code",
      "source": [
        "calc_grad(batch, train_y[:4], linear1)\n",
        "weights.grad.shape,weights.grad.mean(),bias.grad"
      ],
      "metadata": {
        "id": "AriGLpGeSBbi",
        "outputId": "c6eb1ad0-41a3-403d-b05b-1c23df467103",
        "colab": {
          "base_uri": "https://localhost:8080/"
        }
      },
      "execution_count": 323,
      "outputs": [
        {
          "output_type": "execute_result",
          "data": {
            "text/plain": [
              "(torch.Size([784, 1]), tensor(0.0038), tensor([0.0146]))"
            ]
          },
          "metadata": {},
          "execution_count": 323
        }
      ]
    },
    {
      "cell_type": "code",
      "source": [
        "(preds>0.0).float() == train_y[:4]"
      ],
      "metadata": {
        "id": "JV7qVVJuUf9d",
        "outputId": "e4cb0c0a-ebcc-4772-ea06-fdc3dcc0ac64",
        "colab": {
          "base_uri": "https://localhost:8080/"
        }
      },
      "execution_count": 324,
      "outputs": [
        {
          "output_type": "execute_result",
          "data": {
            "text/plain": [
              "tensor([[False],\n",
              "        [False],\n",
              "        [False],\n",
              "        [False]])"
            ]
          },
          "metadata": {},
          "execution_count": 324
        }
      ]
    },
    {
      "cell_type": "code",
      "source": [
        "def train_epoch(model, lr, params):\n",
        "    for xb,yb in dl:\n",
        "        calc_grad(xb, yb, model)\n",
        "        for p in params:\n",
        "            p.data -= p.grad*lr\n",
        "            p.grad.zero_()"
      ],
      "metadata": {
        "id": "D-n_CVQAUhLo"
      },
      "execution_count": 309,
      "outputs": []
    },
    {
      "cell_type": "code",
      "source": [
        "def batch_accuracy(xb, yb):\n",
        "    preds = xb.sigmoid()\n",
        "    correct = (preds>0.5) == yb\n",
        "    return correct.float().mean()"
      ],
      "metadata": {
        "id": "QwA4ymZUWPek"
      },
      "execution_count": 258,
      "outputs": []
    },
    {
      "cell_type": "code",
      "source": [
        "batch_accuracy(linear1(batch), train_y[:4])"
      ],
      "metadata": {
        "id": "zHoidWEVSUbq",
        "outputId": "9fe0eaad-04ce-4a8b-9f3a-a0c1e0d70332",
        "colab": {
          "base_uri": "https://localhost:8080/"
        }
      },
      "execution_count": 259,
      "outputs": [
        {
          "output_type": "execute_result",
          "data": {
            "text/plain": [
              "tensor(0.)"
            ]
          },
          "metadata": {},
          "execution_count": 259
        }
      ]
    },
    {
      "cell_type": "code",
      "source": [
        "def validate_epoch(model):\n",
        "    accs = [batch_accuracy(model(xb), yb) for xb,yb in valid_dl]\n",
        "    return round(torch.stack(accs).mean().item(), 4)"
      ],
      "metadata": {
        "id": "kIappyoZWIPA"
      },
      "execution_count": 260,
      "outputs": []
    },
    {
      "cell_type": "code",
      "source": [
        "validate_epoch(linear1)"
      ],
      "metadata": {
        "id": "1X2FgkPGMbjZ",
        "outputId": "9704d5b5-d8bc-4bd7-d0f3-1f3af966b0a0",
        "colab": {
          "base_uri": "https://localhost:8080/"
        }
      },
      "execution_count": 261,
      "outputs": [
        {
          "output_type": "execute_result",
          "data": {
            "text/plain": [
              "0.0"
            ]
          },
          "metadata": {},
          "execution_count": 261
        }
      ]
    },
    {
      "cell_type": "code",
      "source": [
        "lr = 1.\n",
        "params = weights,bias\n",
        "train_epoch(linear1, lr, params)\n",
        "validate_epoch(linear1)"
      ],
      "metadata": {
        "id": "jKx_518JSyYG",
        "outputId": "4023542e-ee26-4be3-8b03-56d9e3b21c0d",
        "colab": {
          "base_uri": "https://localhost:8080/"
        }
      },
      "execution_count": 262,
      "outputs": [
        {
          "output_type": "execute_result",
          "data": {
            "text/plain": [
              "0.0"
            ]
          },
          "metadata": {},
          "execution_count": 262
        }
      ]
    },
    {
      "cell_type": "code",
      "source": [
        "def train_model(model, epochs):\n",
        "    for i in range(epochs):\n",
        "        train_epoch(model, lr, params)\n",
        "        print(validate_epoch(model), end=' ')"
      ],
      "metadata": {
        "id": "qstIykm_TrBx"
      },
      "execution_count": 263,
      "outputs": []
    },
    {
      "cell_type": "code",
      "source": [
        "lr = 1.\n",
        "params = weights,bias"
      ],
      "metadata": {
        "id": "6cHGu_0iX5xs"
      },
      "execution_count": 264,
      "outputs": []
    },
    {
      "cell_type": "code",
      "source": [
        "train_epoch(linear1, lr, params)"
      ],
      "metadata": {
        "id": "FyvdGWqVWzpf"
      },
      "execution_count": 265,
      "outputs": []
    }
  ]
}