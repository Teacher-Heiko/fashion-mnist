{
  "nbformat": 4,
  "nbformat_minor": 0,
  "metadata": {
    "colab": {
      "provenance": [],
      "authorship_tag": "ABX9TyOyVLJV6pgFTK3wTSi+3NMG",
      "include_colab_link": true
    },
    "kernelspec": {
      "name": "python3",
      "display_name": "Python 3"
    },
    "language_info": {
      "name": "python"
    }
  },
  "cells": [
    {
      "cell_type": "markdown",
      "metadata": {
        "id": "view-in-github",
        "colab_type": "text"
      },
      "source": [
        "<a href=\"https://colab.research.google.com/github/Teacher-Heiko/fashion-mnist/blob/master/Fashion_MNIST_training_loop.ipynb\" target=\"_parent\"><img src=\"https://colab.research.google.com/assets/colab-badge.svg\" alt=\"Open In Colab\"/></a>"
      ]
    },
    {
      "cell_type": "code",
      "source": [],
      "metadata": {
        "id": "S-k7Y7xI0Zhv"
      },
      "execution_count": null,
      "outputs": []
    },
    {
      "cell_type": "markdown",
      "source": [],
      "metadata": {
        "id": "vEW3WRO_9U7g"
      }
    },
    {
      "cell_type": "markdown",
      "source": [
        "***Load repository and dataset***"
      ],
      "metadata": {
        "id": "VyheTpc-0TrU"
      }
    },
    {
      "cell_type": "code",
      "source": [
        "from google.colab import drive\n",
        "drive.mount('/content/drive')"
      ],
      "metadata": {
        "id": "vExo2zoQ_5rS",
        "outputId": "587c544f-7c65-4633-fbcf-466382ac5231",
        "colab": {
          "base_uri": "https://localhost:8080/"
        }
      },
      "execution_count": 99,
      "outputs": [
        {
          "output_type": "stream",
          "name": "stdout",
          "text": [
            "Drive already mounted at /content/drive; to attempt to forcibly remount, call drive.mount(\"/content/drive\", force_remount=True).\n"
          ]
        }
      ]
    },
    {
      "cell_type": "code",
      "source": [
        "!git clone https://github.com/zalandoresearch/fashion-mnist"
      ],
      "metadata": {
        "id": "1nv1X5MEACPb",
        "outputId": "990efabd-7e28-4e2d-8fa2-bd3e4dddd9e3",
        "colab": {
          "base_uri": "https://localhost:8080/"
        }
      },
      "execution_count": 100,
      "outputs": [
        {
          "output_type": "stream",
          "name": "stdout",
          "text": [
            "fatal: destination path 'fashion-mnist' already exists and is not an empty directory.\n"
          ]
        }
      ]
    },
    {
      "cell_type": "code",
      "source": [
        "import sys\n",
        "sys.path.append('fashion-mnist/utils')\n"
      ],
      "metadata": {
        "id": "KeZKYVjGB597"
      },
      "execution_count": 101,
      "outputs": []
    },
    {
      "cell_type": "code",
      "source": [
        "import mnist_reader # from utils folder\n",
        "X_train, y_train = mnist_reader.load_mnist('fashion-mnist/data/fashion', kind='train')\n",
        "X_test, y_test = mnist_reader.load_mnist('fashion-mnist/data/fashion', kind='t10k')"
      ],
      "metadata": {
        "id": "grDrb7LuCFkH"
      },
      "execution_count": 102,
      "outputs": []
    },
    {
      "cell_type": "code",
      "source": [
        "len(X_train)"
      ],
      "metadata": {
        "id": "eGMdZ1ySCkS_",
        "outputId": "2915042b-0c5e-4d78-b309-a3d35bf060a3",
        "colab": {
          "base_uri": "https://localhost:8080/"
        }
      },
      "execution_count": 103,
      "outputs": [
        {
          "output_type": "execute_result",
          "data": {
            "text/plain": [
              "60000"
            ]
          },
          "metadata": {},
          "execution_count": 103
        }
      ]
    },
    {
      "cell_type": "code",
      "source": [
        "type(X_train[0])"
      ],
      "metadata": {
        "id": "xMYWkXiQGLLL",
        "outputId": "fd5160fe-fa30-4579-9691-31fd75466d0a",
        "colab": {
          "base_uri": "https://localhost:8080/"
        }
      },
      "execution_count": 104,
      "outputs": [
        {
          "output_type": "execute_result",
          "data": {
            "text/plain": [
              "numpy.ndarray"
            ]
          },
          "metadata": {},
          "execution_count": 104
        }
      ]
    },
    {
      "cell_type": "code",
      "source": [
        "len(X_test)"
      ],
      "metadata": {
        "id": "eiWk7Ws_Co5f",
        "outputId": "0a800876-62a6-49e7-ebf7-7ca465ae87aa",
        "colab": {
          "base_uri": "https://localhost:8080/"
        }
      },
      "execution_count": 105,
      "outputs": [
        {
          "output_type": "execute_result",
          "data": {
            "text/plain": [
              "10000"
            ]
          },
          "metadata": {},
          "execution_count": 105
        }
      ]
    },
    {
      "cell_type": "markdown",
      "source": [
        "***Prepare images of bags label 8***"
      ],
      "metadata": {
        "id": "_QZhArdU0iFf"
      }
    },
    {
      "cell_type": "code",
      "source": [
        "eights = []\n",
        "for index in range(len(y_train)) :\n",
        "  if y_train[index] == 8 :\n",
        "    eights.append(index)\n",
        "\n",
        "len(eights)"
      ],
      "metadata": {
        "colab": {
          "base_uri": "https://localhost:8080/"
        },
        "id": "FNYyB6UjDDzk",
        "outputId": "d638e83c-a563-4a35-b144-2341ddc3fa4f"
      },
      "execution_count": 106,
      "outputs": [
        {
          "output_type": "execute_result",
          "data": {
            "text/plain": [
              "6000"
            ]
          },
          "metadata": {},
          "execution_count": 106
        }
      ]
    },
    {
      "cell_type": "code",
      "source": [
        "\n",
        "images = [X_train[i] for i in eights]\n",
        "len(images)"
      ],
      "metadata": {
        "colab": {
          "base_uri": "https://localhost:8080/"
        },
        "id": "kzqRzVE6FkXB",
        "outputId": "e162ad1c-f1f3-49a9-e15a-f2b347147cb9"
      },
      "execution_count": 107,
      "outputs": [
        {
          "output_type": "execute_result",
          "data": {
            "text/plain": [
              "6000"
            ]
          },
          "metadata": {},
          "execution_count": 107
        }
      ]
    },
    {
      "cell_type": "code",
      "source": [
        "import numpy as np\n",
        "imgs_8 = np.array(images)"
      ],
      "metadata": {
        "id": "tTg08O1tG7Kh"
      },
      "execution_count": 108,
      "outputs": []
    },
    {
      "cell_type": "code",
      "source": [],
      "metadata": {
        "id": "qr0exQ0DGCEw"
      },
      "execution_count": 108,
      "outputs": []
    },
    {
      "cell_type": "code",
      "source": [
        "import numpy as np\n",
        "import matplotlib.pyplot as plt\n",
        "\n",
        "def display_random_images(X, y, num_images=5):\n",
        "    \"\"\"\n",
        "    Display random images from the given dataset along with their labels.\n",
        "\n",
        "    Parameters:\n",
        "    - X: The dataset containing images.\n",
        "    - y: The corresponding labels.\n",
        "    - num_images: Number of random images to display (default is 5).\n",
        "    \"\"\"\n",
        "    # Generate random indices to select random images\n",
        "    random_indices = np.random.randint(0, len(X), num_images)\n",
        "\n",
        "    # Create a grid of subplots to display the images\n",
        "    fig, axes = plt.subplots(1, num_images, figsize=(15, 5))\n",
        "\n",
        "    for i, idx in enumerate(random_indices):\n",
        "        # Display the image\n",
        "        axes[i].imshow(X[idx].reshape(28, 28), cmap='gray')\n",
        "        axes[i].set_title(f\"Label: {y[idx]}\")\n",
        "        axes[i].axis('off')\n",
        "\n",
        "    plt.tight_layout()\n",
        "    plt.show()"
      ],
      "metadata": {
        "id": "5B7aKt3wFKSm"
      },
      "execution_count": 109,
      "outputs": []
    },
    {
      "cell_type": "code",
      "source": [
        "display_random_images(imgs_8, [8]*6000, num_images=10)"
      ],
      "metadata": {
        "colab": {
          "base_uri": "https://localhost:8080/",
          "height": 131
        },
        "id": "80WQ3J6dFQZ-",
        "outputId": "b4fc3849-f050-4dac-dc9f-610ed6f20cac"
      },
      "execution_count": 156,
      "outputs": [
        {
          "output_type": "display_data",
          "data": {
            "text/plain": [
              "<Figure size 1500x500 with 10 Axes>"
            ],
            "image/png": "[encoded data removed]"
          },
          "metadata": {}
        }
      ]
    },
    {
      "cell_type": "code",
      "source": [
        "imgs_8.shape"
      ],
      "metadata": {
        "id": "dMlASMXsJAe3",
        "outputId": "61b4c0bf-0b59-4127-b224-274b6c2c56b7",
        "colab": {
          "base_uri": "https://localhost:8080/"
        }
      },
      "execution_count": 112,
      "outputs": [
        {
          "output_type": "execute_result",
          "data": {
            "text/plain": [
              "(6000, 784)"
            ]
          },
          "metadata": {},
          "execution_count": 112
        }
      ]
    },
    {
      "cell_type": "code",
      "source": [
        "nines = []\n",
        "for index in range(len(y_train)) :\n",
        "  if y_train[index] == 9 :\n",
        "    nines.append(index)\n",
        "\n",
        "len(nines)"
      ],
      "metadata": {
        "outputId": "8aeab1ce-66d4-4a81-a250-19fa9812e258",
        "colab": {
          "base_uri": "https://localhost:8080/"
        },
        "id": "V6fEltQcNCe8"
      },
      "execution_count": 113,
      "outputs": [
        {
          "output_type": "execute_result",
          "data": {
            "text/plain": [
              "6000"
            ]
          },
          "metadata": {},
          "execution_count": 113
        }
      ]
    },
    {
      "cell_type": "code",
      "source": [
        "\n",
        "images = [X_train[i] for i in nines]\n",
        "len(images)"
      ],
      "metadata": {
        "outputId": "ab797337-01e0-49d7-eddb-b68149d3bf76",
        "colab": {
          "base_uri": "https://localhost:8080/"
        },
        "id": "z5FFN2F9NQ1G"
      },
      "execution_count": 114,
      "outputs": [
        {
          "output_type": "execute_result",
          "data": {
            "text/plain": [
              "6000"
            ]
          },
          "metadata": {},
          "execution_count": 114
        }
      ]
    },
    {
      "cell_type": "code",
      "source": [
        "import numpy as np\n",
        "imgs_9 = np.array(images)"
      ],
      "metadata": {
        "id": "dh39Zce-NQ1H"
      },
      "execution_count": 115,
      "outputs": []
    },
    {
      "cell_type": "code",
      "source": [
        "display_random_images(imgs_9, [9]*6000, num_images=10)"
      ],
      "metadata": {
        "outputId": "fa281100-7551-4d0e-d2c7-20db6145e7d4",
        "colab": {
          "base_uri": "https://localhost:8080/",
          "height": 131
        },
        "id": "37gCJB-PNkbn"
      },
      "execution_count": 157,
      "outputs": [
        {
          "output_type": "display_data",
          "data": {
            "text/plain": [
              "<Figure size 1500x500 with 10 Axes>"
            ],
            "image/png": "[encoded data removed]"
          },
          "metadata": {}
        }
      ]
    },
    {
      "cell_type": "code",
      "source": [
        "\n",
        "eights_tens = torch.tensor(imgs_8)\n",
        "eights_tens.shape"
      ],
      "metadata": {
        "colab": {
          "base_uri": "https://localhost:8080/"
        },
        "id": "Fz9CaO-2OLER",
        "outputId": "90fb0285-6c26-4583-e6ab-6ddd626bbedb"
      },
      "execution_count": 117,
      "outputs": [
        {
          "output_type": "execute_result",
          "data": {
            "text/plain": [
              "torch.Size([6000, 784])"
            ]
          },
          "metadata": {},
          "execution_count": 117
        }
      ]
    },
    {
      "cell_type": "code",
      "source": [
        "\n",
        "nines_tens = torch.tensor(imgs_9).view(-1, 28*28)\n",
        "nines_tens.shape"
      ],
      "metadata": {
        "id": "VjyxKSSSOlLG",
        "outputId": "cb86e5e2-0f8b-465f-afac-29c4bc0d23c9",
        "colab": {
          "base_uri": "https://localhost:8080/"
        }
      },
      "execution_count": 171,
      "outputs": [
        {
          "output_type": "execute_result",
          "data": {
            "text/plain": [
              "torch.Size([6000, 784])"
            ]
          },
          "metadata": {},
          "execution_count": 171
        }
      ]
    },
    {
      "cell_type": "code",
      "source": [
        "eights_tens = eights_tens.float()/255\n",
        "nines_tens = nines_tens.float()/255"
      ],
      "metadata": {
        "id": "D7fL4B6pQNLR"
      },
      "execution_count": 119,
      "outputs": []
    },
    {
      "cell_type": "code",
      "source": [],
      "metadata": {
        "id": "6iDMZj0L8n-_"
      },
      "execution_count": null,
      "outputs": []
    },
    {
      "cell_type": "code",
      "source": [
        "display_random_images(nines_tens, [9]*6000, num_images=10)"
      ],
      "metadata": {
        "id": "5OV95YIh8cmu",
        "outputId": "31cba24f-630b-4142-d72c-8d0ecdda3f4e",
        "colab": {
          "base_uri": "https://localhost:8080/",
          "height": 131
        }
      },
      "execution_count": 180,
      "outputs": [
        {
          "output_type": "display_data",
          "data": {
            "text/plain": [
              "<Figure size 1500x500 with 10 Axes>"
            ],
            "image/png": "[encoded data removed]"
          },
          "metadata": {}
        }
      ]
    },
    {
      "cell_type": "code",
      "source": [
        "from fastai.vision.all import *\n",
        "train_x = torch.cat([eight_tens, nine_tens])\n",
        "train_x.shape"
      ],
      "metadata": {
        "id": "3j6tSP8rJtYf",
        "outputId": "d145bf61-2318-4d37-f31d-c95ecb581857",
        "colab": {
          "base_uri": "https://localhost:8080/"
        }
      },
      "execution_count": null,
      "outputs": [
        {
          "output_type": "execute_result",
          "data": {
            "text/plain": [
              "torch.Size([12000, 784])"
            ]
          },
          "metadata": {},
          "execution_count": 120
        }
      ]
    },
    {
      "cell_type": "code",
      "source": [
        "train_y = tensor([8]*len(eights) + [9]*len(nines)).unsqueeze(1)\n",
        "train_x.shape,train_y.shape"
      ],
      "metadata": {
        "id": "mJAJgmZwPImq",
        "outputId": "325c130c-dc63-4ff9-ca09-28dfb4597c3d",
        "colab": {
          "base_uri": "https://localhost:8080/"
        }
      },
      "execution_count": 121,
      "outputs": [
        {
          "output_type": "execute_result",
          "data": {
            "text/plain": [
              "(torch.Size([12000, 784]), torch.Size([12000, 1]))"
            ]
          },
          "metadata": {},
          "execution_count": 121
        }
      ]
    },
    {
      "cell_type": "code",
      "source": [
        "len(train_y)"
      ],
      "metadata": {
        "colab": {
          "base_uri": "https://localhost:8080/"
        },
        "id": "fSuT_gxfa0Ns",
        "outputId": "995a68de-c3c6-408f-fb2a-189339d9b09d"
      },
      "execution_count": 147,
      "outputs": [
        {
          "output_type": "execute_result",
          "data": {
            "text/plain": [
              "12000"
            ]
          },
          "metadata": {},
          "execution_count": 147
        }
      ]
    },
    {
      "cell_type": "code",
      "source": [
        "dset = list(zip(train_x,train_y))\n",
        "x,y = dset[0]\n",
        "x.shape,y"
      ],
      "metadata": {
        "id": "JeYX8nVRMTgY",
        "outputId": "aa9bd6ce-03c6-481d-e8d2-32b7700076d7",
        "colab": {
          "base_uri": "https://localhost:8080/"
        }
      },
      "execution_count": 122,
      "outputs": [
        {
          "output_type": "execute_result",
          "data": {
            "text/plain": [
              "(torch.Size([784]), tensor([8]))"
            ]
          },
          "metadata": {},
          "execution_count": 122
        }
      ]
    },
    {
      "cell_type": "code",
      "source": [
        "valid_dl = DataLoader(valid_dset, batch_size=256)"
      ],
      "metadata": {
        "id": "ZvGBybAKzbVs"
      },
      "execution_count": null,
      "outputs": []
    },
    {
      "cell_type": "code",
      "execution_count": 123,
      "metadata": {
        "id": "xCJco2sXSvjw"
      },
      "outputs": [],
      "source": [
        "def init_params(size, std=1.0): return (torch.randn(size)*std).requires_grad_()"
      ]
    },
    {
      "cell_type": "code",
      "source": [
        "y.shape\n"
      ],
      "metadata": {
        "id": "TtvJo8fgRfCo",
        "outputId": "c947aa17-5f06-454e-935c-058a93535039",
        "colab": {
          "base_uri": "https://localhost:8080/"
        }
      },
      "execution_count": 145,
      "outputs": [
        {
          "output_type": "execute_result",
          "data": {
            "text/plain": [
              "torch.Size([1])"
            ]
          },
          "metadata": {},
          "execution_count": 145
        }
      ]
    },
    {
      "cell_type": "code",
      "source": [
        "len(y)"
      ],
      "metadata": {
        "colab": {
          "base_uri": "https://localhost:8080/"
        },
        "id": "e90crx-Eat-3",
        "outputId": "0397abd7-82d0-414a-d679-a6809bd02b1a"
      },
      "execution_count": 146,
      "outputs": [
        {
          "output_type": "execute_result",
          "data": {
            "text/plain": [
              "1"
            ]
          },
          "metadata": {},
          "execution_count": 146
        }
      ]
    },
    {
      "cell_type": "code",
      "source": [
        "y[:10]"
      ],
      "metadata": {
        "id": "JH6oKOvfRzu8",
        "outputId": "028b7495-3172-4d91-d37d-0f3def8e5dc2",
        "colab": {
          "base_uri": "https://localhost:8080/"
        }
      },
      "execution_count": 125,
      "outputs": [
        {
          "output_type": "execute_result",
          "data": {
            "text/plain": [
              "tensor([8])"
            ]
          },
          "metadata": {},
          "execution_count": 125
        }
      ]
    },
    {
      "cell_type": "markdown",
      "source": [
        "***Function to prepare tensors***"
      ],
      "metadata": {
        "id": "pexcKTh81j_Q"
      }
    },
    {
      "cell_type": "code",
      "source": [
        "def prepare_tensors(X,y, label) :\n",
        "  \"\"\"\n",
        "  X = training or validation set\n",
        "  y = label set\n",
        "  label = Fashion MNIST label e.g. 8 is bags\n",
        "  \"\"\"\n",
        "  indices = []\n",
        "  for index in range(len(y)) :\n",
        "    if y[index] == label :\n",
        "      indices.append(index)\n",
        "\n",
        "  images = np.array([X[i] for i in indices])\n",
        "\n",
        "\n",
        "  return torch.tensor(images).view(-1,28,28)"
      ],
      "metadata": {
        "id": "dgvaFjDz1qDx"
      },
      "execution_count": 167,
      "outputs": []
    },
    {
      "cell_type": "code",
      "source": [
        "eight_tens = prepare_tensors(X_train, y_train, 8)\n",
        "eight_tens.shape"
      ],
      "metadata": {
        "id": "mPdHnH0d3mpk",
        "outputId": "84819a34-e517-4243-b585-e430dc8dd3df",
        "colab": {
          "base_uri": "https://localhost:8080/"
        }
      },
      "execution_count": 168,
      "outputs": [
        {
          "output_type": "execute_result",
          "data": {
            "text/plain": [
              "torch.Size([6000, 28, 28])"
            ]
          },
          "metadata": {},
          "execution_count": 168
        }
      ]
    },
    {
      "cell_type": "code",
      "source": [
        "nine_tens = prepare_tensors(X_train, y_train, 9)\n",
        "nine_tens.shape"
      ],
      "metadata": {
        "id": "IcPzd-m45Dlb",
        "outputId": "ee4a3ab0-ff57-486b-9279-e78ac8f71361",
        "colab": {
          "base_uri": "https://localhost:8080/"
        }
      },
      "execution_count": 169,
      "outputs": [
        {
          "output_type": "execute_result",
          "data": {
            "text/plain": [
              "torch.Size([6000, 28, 28])"
            ]
          },
          "metadata": {},
          "execution_count": 169
        }
      ]
    },
    {
      "cell_type": "code",
      "source": [
        "display_random_images(eight_tens, [8]*6000, num_images=10)"
      ],
      "metadata": {
        "id": "6ASmaknZ82tU",
        "outputId": "5d12f0a9-e3e3-4912-c04a-0f2de375120d",
        "colab": {
          "base_uri": "https://localhost:8080/",
          "height": 131
        }
      },
      "execution_count": 181,
      "outputs": [
        {
          "output_type": "display_data",
          "data": {
            "text/plain": [
              "<Figure size 1500x500 with 10 Axes>"
            ],
            "image/png": "[encoded data removed]"
          },
          "metadata": {}
        }
      ]
    },
    {
      "cell_type": "code",
      "source": [
        "display_random_images(nines_tens, [9]*6000, num_images=10)"
      ],
      "metadata": {
        "id": "EmbF-iYp84WE",
        "outputId": "56e68fc3-ff00-479a-adc6-e05170a89321",
        "colab": {
          "base_uri": "https://localhost:8080/",
          "height": 131
        }
      },
      "execution_count": 182,
      "outputs": [
        {
          "output_type": "display_data",
          "data": {
            "text/plain": [
              "<Figure size 1500x500 with 10 Axes>"
            ],
            "image/png": "[encoded data removed]"
          },
          "metadata": {}
        }
      ]
    },
    {
      "cell_type": "markdown",
      "source": [
        "***Normalize***"
      ],
      "metadata": {
        "id": "pWA-WFvm6nFe"
      }
    },
    {
      "cell_type": "code",
      "source": [
        "eight_tens = eight_tens.float()/255\n",
        "nine_tens = nine_tens.float()/255\n",
        "eight_tens.shape, nine_tens.shape"
      ],
      "metadata": {
        "id": "gzmQ7Rnv1qD9",
        "outputId": "88e4650a-fb3e-493a-a11b-67117bc5ce23",
        "colab": {
          "base_uri": "https://localhost:8080/"
        }
      },
      "execution_count": 170,
      "outputs": [
        {
          "output_type": "execute_result",
          "data": {
            "text/plain": [
              "(torch.Size([6000, 28, 28]), torch.Size([6000, 28, 28]))"
            ]
          },
          "metadata": {},
          "execution_count": 170
        }
      ]
    },
    {
      "cell_type": "code",
      "source": [
        "from fastai.vision.all import *\n",
        "train_x = torch.cat([eight_tens, nine_tens])\n",
        "train_x.shape"
      ],
      "metadata": {
        "outputId": "f31a746b-8b90-4cde-90cb-5dd982e95c44",
        "colab": {
          "base_uri": "https://localhost:8080/"
        },
        "id": "7nF9zAVZ6p7p"
      },
      "execution_count": 174,
      "outputs": [
        {
          "output_type": "execute_result",
          "data": {
            "text/plain": [
              "torch.Size([12000, 28, 28])"
            ]
          },
          "metadata": {},
          "execution_count": 174
        }
      ]
    },
    {
      "cell_type": "markdown",
      "source": [
        "***Prepare labels***"
      ],
      "metadata": {
        "id": "y85cw9zH68Ad"
      }
    },
    {
      "cell_type": "code",
      "source": [
        "train_y = tensor([8]*len(eight_tens) + [9]*len(nine_tens)).unsqueeze(1)\n",
        "train_x.shape,train_y.shape"
      ],
      "metadata": {
        "id": "ri3SbYcJ6aIa",
        "outputId": "0625bc59-2cec-4ba7-a343-c86cfc49f5e3",
        "colab": {
          "base_uri": "https://localhost:8080/"
        }
      },
      "execution_count": 175,
      "outputs": [
        {
          "output_type": "execute_result",
          "data": {
            "text/plain": [
              "(torch.Size([12000, 28, 28]), torch.Size([12000, 1]))"
            ]
          },
          "metadata": {},
          "execution_count": 175
        }
      ]
    },
    {
      "cell_type": "markdown",
      "source": [
        "***Prepare training set tuple***"
      ],
      "metadata": {
        "id": "aYCyiwTa7hjL"
      }
    },
    {
      "cell_type": "code",
      "source": [
        "train_dset = list(zip(train_x,train_y))\n",
        "len(train_dset)"
      ],
      "metadata": {
        "id": "KvzyUPUP6epH",
        "outputId": "00b417e8-cf04-44cd-8d0d-de7612fd94d5",
        "colab": {
          "base_uri": "https://localhost:8080/"
        }
      },
      "execution_count": 178,
      "outputs": [
        {
          "output_type": "execute_result",
          "data": {
            "text/plain": [
              "12000"
            ]
          },
          "metadata": {},
          "execution_count": 178
        }
      ]
    },
    {
      "cell_type": "markdown",
      "source": [
        "***Repeat for validation/test set***"
      ],
      "metadata": {
        "id": "ijnCksSM8Mts"
      }
    },
    {
      "cell_type": "code",
      "source": [
        "X_test.shape, y_test.shape"
      ],
      "metadata": {
        "id": "95IjkoXx9Dkx",
        "outputId": "bcf321b4-f630-4e61-bade-576bf23b0a5a",
        "colab": {
          "base_uri": "https://localhost:8080/"
        }
      },
      "execution_count": 183,
      "outputs": [
        {
          "output_type": "execute_result",
          "data": {
            "text/plain": [
              "((10000, 784), (10000,))"
            ]
          },
          "metadata": {},
          "execution_count": 183
        }
      ]
    },
    {
      "cell_type": "code",
      "source": [],
      "metadata": {
        "id": "v1Dbn66b9DYC"
      },
      "execution_count": null,
      "outputs": []
    },
    {
      "cell_type": "code",
      "source": [],
      "metadata": {
        "id": "tOFEeVzZ9DMW"
      },
      "execution_count": null,
      "outputs": []
    },
    {
      "cell_type": "code",
      "execution_count": 126,
      "metadata": {
        "id": "qaPWn_ETSkAm"
      },
      "outputs": [],
      "source": [
        "def init_params(size, std=1.0): return (torch.randn(size)*std).requires_grad_()"
      ]
    },
    {
      "cell_type": "code",
      "execution_count": 127,
      "metadata": {
        "id": "XC6rnK9pSkA7"
      },
      "outputs": [],
      "source": [
        "weights = init_params((28*28,1))"
      ]
    },
    {
      "cell_type": "code",
      "execution_count": 128,
      "metadata": {
        "id": "hUXMfxx4SkA8"
      },
      "outputs": [],
      "source": [
        "bias = init_params(1)"
      ]
    },
    {
      "cell_type": "code",
      "execution_count": 129,
      "metadata": {
        "outputId": "2901611d-c0b9-426f-80c6-ce423d910146",
        "colab": {
          "base_uri": "https://localhost:8080/"
        },
        "id": "E6EGRBfQSkA9"
      },
      "outputs": [
        {
          "output_type": "execute_result",
          "data": {
            "text/plain": [
              "tensor([8.5129], grad_fn=<AddBackward0>)"
            ]
          },
          "metadata": {},
          "execution_count": 129
        }
      ],
      "source": [
        "(train_x[0]*weights.T).sum() + bias"
      ]
    },
    {
      "cell_type": "code",
      "source": [
        "dl = DataLoader(dset, batch_size=256)\n",
        "xb,yb = first(dl)\n",
        "xb.shape,yb.shape"
      ],
      "metadata": {
        "id": "CzEmONb6TE8T",
        "outputId": "7f281717-2e97-46bf-946d-7ce7843b6434",
        "colab": {
          "base_uri": "https://localhost:8080/"
        }
      },
      "execution_count": 130,
      "outputs": [
        {
          "output_type": "execute_result",
          "data": {
            "text/plain": [
              "(torch.Size([256, 784]), torch.Size([256, 1]))"
            ]
          },
          "metadata": {},
          "execution_count": 130
        }
      ]
    },
    {
      "cell_type": "code",
      "source": [
        "linear_model = nn.Linear(28*28,1)"
      ],
      "metadata": {
        "id": "OG9kV2abTT4w"
      },
      "execution_count": 141,
      "outputs": []
    },
    {
      "cell_type": "code",
      "source": [
        "w,b = linear_model.parameters()\n",
        "w.shape,b.shape"
      ],
      "metadata": {
        "id": "G3Ms2HJ1TbhX",
        "outputId": "5d8dd212-b73d-4f79-f429-909dc511dbcd",
        "colab": {
          "base_uri": "https://localhost:8080/"
        }
      },
      "execution_count": 132,
      "outputs": [
        {
          "output_type": "execute_result",
          "data": {
            "text/plain": [
              "(torch.Size([1, 784]), torch.Size([1]))"
            ]
          },
          "metadata": {},
          "execution_count": 132
        }
      ]
    },
    {
      "cell_type": "code",
      "source": [
        "def linear1(xb): return xb@weights + bias"
      ],
      "metadata": {
        "id": "16BkG3-HY8EF"
      },
      "execution_count": 143,
      "outputs": []
    },
    {
      "cell_type": "code",
      "source": [
        "def batch_accuracy(xb, yb):\n",
        "    preds = xb.sigmoid()\n",
        "    correct = (preds>0.5) == yb\n",
        "    return correct.float().mean()"
      ],
      "metadata": {
        "id": "QwA4ymZUWPek"
      },
      "execution_count": 133,
      "outputs": []
    },
    {
      "cell_type": "code",
      "source": [
        "def validate_epoch(model):\n",
        "    accs = [batch_accuracy(model(xb), yb) for xb,yb in valid_dl]\n",
        "    return round(torch.stack(accs).mean().item(), 4)"
      ],
      "metadata": {
        "id": "kIappyoZWIPA"
      },
      "execution_count": 134,
      "outputs": []
    },
    {
      "cell_type": "code",
      "source": [
        "def mnist_loss(predictions, targets):\n",
        "    predictions = predictions.sigmoid()\n",
        "    return torch.where(targets==1, 1-predictions, predictions).mean()"
      ],
      "metadata": {
        "id": "Zbzd2zyMVdBJ"
      },
      "execution_count": 135,
      "outputs": []
    },
    {
      "cell_type": "code",
      "source": [
        "def calc_grad(xb, yb, model):\n",
        "    preds = model(xb)\n",
        "    loss = mnist_loss(preds, yb)\n",
        "    loss.backward()"
      ],
      "metadata": {
        "id": "2viIjnFqVcN1"
      },
      "execution_count": 136,
      "outputs": []
    },
    {
      "cell_type": "code",
      "source": [
        "def train_epoch(model, lr, params):\n",
        "    for xb,yb in dl:\n",
        "        calc_grad(xb, yb, model)\n",
        "        for p in params:\n",
        "            p.data -= p.grad*lr\n",
        "            p.grad.zero_()"
      ],
      "metadata": {
        "id": "D-n_CVQAUhLo"
      },
      "execution_count": 137,
      "outputs": []
    },
    {
      "cell_type": "code",
      "source": [
        "def train_model(model, epochs):\n",
        "    for i in range(epochs):\n",
        "        train_epoch(model, lr, params)\n",
        "        print(validate_epoch(model), end=' ')"
      ],
      "metadata": {
        "id": "qstIykm_TrBx"
      },
      "execution_count": 138,
      "outputs": []
    },
    {
      "cell_type": "code",
      "source": [
        "lr = 1.\n",
        "params = weights,bias"
      ],
      "metadata": {
        "id": "6cHGu_0iX5xs"
      },
      "execution_count": 139,
      "outputs": []
    },
    {
      "cell_type": "code",
      "source": [
        "train_epoch(linear1, lr, params)"
      ],
      "metadata": {
        "id": "FyvdGWqVWzpf"
      },
      "execution_count": 144,
      "outputs": []
    }
  ]
}