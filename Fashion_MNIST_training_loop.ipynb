{
  "nbformat": 4,
  "nbformat_minor": 0,
  "metadata": {
    "colab": {
      "provenance": [],
      "authorship_tag": "ABX9TyNpAMFGP88uTW7Bchmodmlj",
      "include_colab_link": true
    },
    "kernelspec": {
      "name": "python3",
      "display_name": "Python 3"
    },
    "language_info": {
      "name": "python"
    }
  },
  "cells": [
    {
      "cell_type": "markdown",
      "metadata": {
        "id": "view-in-github",
        "colab_type": "text"
      },
      "source": [
        "<a href=\"https://colab.research.google.com/github/Teacher-Heiko/fashion-mnist/blob/master/Fashion_MNIST_training_loop.ipynb\" target=\"_parent\"><img src=\"https://colab.research.google.com/assets/colab-badge.svg\" alt=\"Open In Colab\"/></a>"
      ]
    },
    {
      "cell_type": "code",
      "source": [],
      "metadata": {
        "id": "S-k7Y7xI0Zhv"
      },
      "execution_count": null,
      "outputs": []
    },
    {
      "cell_type": "markdown",
      "source": [],
      "metadata": {
        "id": "vEW3WRO_9U7g"
      }
    },
    {
      "cell_type": "markdown",
      "source": [
        "***Load repository and dataset***"
      ],
      "metadata": {
        "id": "VyheTpc-0TrU"
      }
    },
    {
      "cell_type": "code",
      "source": [
        "from google.colab import drive\n",
        "drive.mount('/content/drive')"
      ],
      "metadata": {
        "id": "vExo2zoQ_5rS",
        "outputId": "87a54711-7076-4c3e-cbe8-864c7f10560d",
        "colab": {
          "base_uri": "https://localhost:8080/"
        }
      },
      "execution_count": 1,
      "outputs": [
        {
          "output_type": "stream",
          "name": "stdout",
          "text": [
            "Mounted at /content/drive\n"
          ]
        }
      ]
    },
    {
      "cell_type": "code",
      "source": [
        "!git clone https://github.com/zalandoresearch/fashion-mnist"
      ],
      "metadata": {
        "id": "1nv1X5MEACPb",
        "outputId": "d1e32e61-67b2-4b77-d5a2-acfb0926c4d3",
        "colab": {
          "base_uri": "https://localhost:8080/"
        }
      },
      "execution_count": 2,
      "outputs": [
        {
          "output_type": "stream",
          "name": "stdout",
          "text": [
            "Cloning into 'fashion-mnist'...\n",
            "remote: Enumerating objects: 762, done.\u001b[K\n",
            "remote: Counting objects: 100% (4/4), done.\u001b[K\n",
            "remote: Compressing objects: 100% (4/4), done.\u001b[K\n",
            "remote: Total 762 (delta 0), reused 3 (delta 0), pack-reused 758\u001b[K\n",
            "Receiving objects: 100% (762/762), 105.85 MiB | 22.63 MiB/s, done.\n",
            "Resolving deltas: 100% (444/444), done.\n"
          ]
        }
      ]
    },
    {
      "cell_type": "code",
      "source": [
        "import sys\n",
        "sys.path.append('fashion-mnist/utils')\n"
      ],
      "metadata": {
        "id": "KeZKYVjGB597"
      },
      "execution_count": 3,
      "outputs": []
    },
    {
      "cell_type": "code",
      "source": [
        "import mnist_reader # from utils folder\n",
        "X_train, y_train = mnist_reader.load_mnist('fashion-mnist/data/fashion', kind='train')\n",
        "X_test, y_test = mnist_reader.load_mnist('fashion-mnist/data/fashion', kind='t10k')"
      ],
      "metadata": {
        "id": "grDrb7LuCFkH"
      },
      "execution_count": 4,
      "outputs": []
    },
    {
      "cell_type": "code",
      "source": [
        "len(X_train)"
      ],
      "metadata": {
        "id": "eGMdZ1ySCkS_",
        "outputId": "df4dd4b7-870b-4907-a9fc-0ae97ddefa22",
        "colab": {
          "base_uri": "https://localhost:8080/"
        }
      },
      "execution_count": 5,
      "outputs": [
        {
          "output_type": "execute_result",
          "data": {
            "text/plain": [
              "60000"
            ]
          },
          "metadata": {},
          "execution_count": 5
        }
      ]
    },
    {
      "cell_type": "code",
      "source": [
        "type(X_train[0])"
      ],
      "metadata": {
        "id": "xMYWkXiQGLLL",
        "outputId": "9861c93b-b884-43b3-9fd1-0f323451dab9",
        "colab": {
          "base_uri": "https://localhost:8080/"
        }
      },
      "execution_count": 6,
      "outputs": [
        {
          "output_type": "execute_result",
          "data": {
            "text/plain": [
              "numpy.ndarray"
            ]
          },
          "metadata": {},
          "execution_count": 6
        }
      ]
    },
    {
      "cell_type": "code",
      "source": [
        "len(X_test)"
      ],
      "metadata": {
        "id": "eiWk7Ws_Co5f",
        "outputId": "0bd4cf76-0d8c-4e1f-bdc5-060dc4c70d2d",
        "colab": {
          "base_uri": "https://localhost:8080/"
        }
      },
      "execution_count": 7,
      "outputs": [
        {
          "output_type": "execute_result",
          "data": {
            "text/plain": [
              "10000"
            ]
          },
          "metadata": {},
          "execution_count": 7
        }
      ]
    },
    {
      "cell_type": "markdown",
      "source": [
        "***Prepare images of bags label 8***"
      ],
      "metadata": {
        "id": "_QZhArdU0iFf"
      }
    },
    {
      "cell_type": "code",
      "source": [
        "eights = []\n",
        "for index in range(len(y_train)) :\n",
        "  if y_train[index] == 8 :\n",
        "    eights.append(index)\n",
        "\n",
        "len(eights)"
      ],
      "metadata": {
        "colab": {
          "base_uri": "https://localhost:8080/"
        },
        "id": "FNYyB6UjDDzk",
        "outputId": "d6ca35b7-eae6-4894-b615-8398d84ff743"
      },
      "execution_count": 8,
      "outputs": [
        {
          "output_type": "execute_result",
          "data": {
            "text/plain": [
              "6000"
            ]
          },
          "metadata": {},
          "execution_count": 8
        }
      ]
    },
    {
      "cell_type": "code",
      "source": [
        "\n",
        "images = [X_train[i] for i in eights]\n",
        "len(images)"
      ],
      "metadata": {
        "colab": {
          "base_uri": "https://localhost:8080/"
        },
        "id": "kzqRzVE6FkXB",
        "outputId": "6e80d671-b745-4745-e0f9-78b880f8a2ed"
      },
      "execution_count": 9,
      "outputs": [
        {
          "output_type": "execute_result",
          "data": {
            "text/plain": [
              "6000"
            ]
          },
          "metadata": {},
          "execution_count": 9
        }
      ]
    },
    {
      "cell_type": "code",
      "source": [
        "import numpy as np\n",
        "imgs_8 = np.array(images)"
      ],
      "metadata": {
        "id": "tTg08O1tG7Kh"
      },
      "execution_count": 10,
      "outputs": []
    },
    {
      "cell_type": "code",
      "source": [],
      "metadata": {
        "id": "qr0exQ0DGCEw"
      },
      "execution_count": 10,
      "outputs": []
    },
    {
      "cell_type": "code",
      "source": [
        "import numpy as np\n",
        "import matplotlib.pyplot as plt\n",
        "\n",
        "def display_random_images(X, y, num_images=5):\n",
        "    \"\"\"\n",
        "    Display random images from the given dataset along with their labels.\n",
        "\n",
        "    Parameters:\n",
        "    - X: The dataset containing images.\n",
        "    - y: The corresponding labels.\n",
        "    - num_images: Number of random images to display (default is 5).\n",
        "    \"\"\"\n",
        "    # Generate random indices to select random images\n",
        "    random_indices = np.random.randint(0, len(X), num_images)\n",
        "\n",
        "    # Create a grid of subplots to display the images\n",
        "    fig, axes = plt.subplots(1, num_images, figsize=(15, 5))\n",
        "\n",
        "    for i, idx in enumerate(random_indices):\n",
        "        # Display the image\n",
        "        axes[i].imshow(X[idx].reshape(28, 28), cmap='gray')\n",
        "        axes[i].set_title(f\"Label: {y[idx]}\")\n",
        "        axes[i].axis('off')\n",
        "\n",
        "    plt.tight_layout()\n",
        "    plt.show()"
      ],
      "metadata": {
        "id": "5B7aKt3wFKSm"
      },
      "execution_count": 11,
      "outputs": []
    },
    {
      "cell_type": "code",
      "source": [
        "display_random_images(imgs_8, [8]*6000, num_images=10)"
      ],
      "metadata": {
        "colab": {
          "base_uri": "https://localhost:8080/",
          "height": 122
        },
        "id": "80WQ3J6dFQZ-",
        "outputId": "ccd979c0-1ea0-4b87-8057-bac799a798b5"
      },
      "execution_count": 12,
      "outputs": [
        {
          "output_type": "display_data",
          "data": {
            "text/plain": [
              "<Figure size 1500x500 with 10 Axes>"
            ],
            "image/png": "[encoded data removed]"
          },
          "metadata": {}
        }
      ]
    },
    {
      "cell_type": "code",
      "source": [
        "imgs_8.shape"
      ],
      "metadata": {
        "id": "dMlASMXsJAe3",
        "outputId": "10b29e5d-6436-48b5-c0aa-c451f57c8255",
        "colab": {
          "base_uri": "https://localhost:8080/"
        }
      },
      "execution_count": 13,
      "outputs": [
        {
          "output_type": "execute_result",
          "data": {
            "text/plain": [
              "(6000, 784)"
            ]
          },
          "metadata": {},
          "execution_count": 13
        }
      ]
    },
    {
      "cell_type": "code",
      "source": [
        "nines = []\n",
        "for index in range(len(y_train)) :\n",
        "  if y_train[index] == 9 :\n",
        "    nines.append(index)\n",
        "\n",
        "len(nines)"
      ],
      "metadata": {
        "outputId": "c600fd87-4957-4d1a-cfe7-f956e3eb5d4d",
        "colab": {
          "base_uri": "https://localhost:8080/"
        },
        "id": "V6fEltQcNCe8"
      },
      "execution_count": 14,
      "outputs": [
        {
          "output_type": "execute_result",
          "data": {
            "text/plain": [
              "6000"
            ]
          },
          "metadata": {},
          "execution_count": 14
        }
      ]
    },
    {
      "cell_type": "code",
      "source": [
        "\n",
        "images = [X_train[i] for i in nines]\n",
        "len(images)"
      ],
      "metadata": {
        "outputId": "044dfa42-7cba-451a-8798-4a3c555b9265",
        "colab": {
          "base_uri": "https://localhost:8080/"
        },
        "id": "z5FFN2F9NQ1G"
      },
      "execution_count": 15,
      "outputs": [
        {
          "output_type": "execute_result",
          "data": {
            "text/plain": [
              "6000"
            ]
          },
          "metadata": {},
          "execution_count": 15
        }
      ]
    },
    {
      "cell_type": "code",
      "source": [
        "\n",
        "imgs_9 = np.array(images)"
      ],
      "metadata": {
        "id": "dh39Zce-NQ1H"
      },
      "execution_count": 16,
      "outputs": []
    },
    {
      "cell_type": "code",
      "source": [
        "display_random_images(imgs_9, [9]*6000, num_images=10)"
      ],
      "metadata": {
        "outputId": "2a0614b8-a4ab-4160-bde3-e8a636db6d34",
        "colab": {
          "base_uri": "https://localhost:8080/",
          "height": 122
        },
        "id": "37gCJB-PNkbn"
      },
      "execution_count": 17,
      "outputs": [
        {
          "output_type": "display_data",
          "data": {
            "text/plain": [
              "<Figure size 1500x500 with 10 Axes>"
            ],
            "image/png": "[encoded data removed]"
          },
          "metadata": {}
        }
      ]
    },
    {
      "cell_type": "code",
      "source": [
        "import torch\n",
        "eights_tens = torch.tensor(imgs_8)\n",
        "eights_tens.shape"
      ],
      "metadata": {
        "colab": {
          "base_uri": "https://localhost:8080/"
        },
        "id": "Fz9CaO-2OLER",
        "outputId": "3cef9fe0-928e-401a-c12c-62f79d4987a0"
      },
      "execution_count": 21,
      "outputs": [
        {
          "output_type": "execute_result",
          "data": {
            "text/plain": [
              "torch.Size([6000, 784])"
            ]
          },
          "metadata": {},
          "execution_count": 21
        }
      ]
    },
    {
      "cell_type": "code",
      "source": [
        "\n",
        "nines_tens = torch.tensor(imgs_9).view(-1, 28*28)\n",
        "nines_tens.shape"
      ],
      "metadata": {
        "id": "VjyxKSSSOlLG",
        "outputId": "076b3227-ee1a-4c16-ba63-338f55dfca04",
        "colab": {
          "base_uri": "https://localhost:8080/"
        }
      },
      "execution_count": 22,
      "outputs": [
        {
          "output_type": "execute_result",
          "data": {
            "text/plain": [
              "torch.Size([6000, 784])"
            ]
          },
          "metadata": {},
          "execution_count": 22
        }
      ]
    },
    {
      "cell_type": "code",
      "source": [
        "eights_tens = eights_tens.float()/255\n",
        "nines_tens = nines_tens.float()/255"
      ],
      "metadata": {
        "id": "D7fL4B6pQNLR"
      },
      "execution_count": 23,
      "outputs": []
    },
    {
      "cell_type": "code",
      "source": [],
      "metadata": {
        "id": "6iDMZj0L8n-_"
      },
      "execution_count": 23,
      "outputs": []
    },
    {
      "cell_type": "code",
      "source": [
        "display_random_images(nines_tens, [9]*6000, num_images=10)"
      ],
      "metadata": {
        "id": "5OV95YIh8cmu",
        "outputId": "209e51ae-1fdc-49c4-f8f2-1652cd4ecb0e",
        "colab": {
          "base_uri": "https://localhost:8080/",
          "height": 122
        }
      },
      "execution_count": 24,
      "outputs": [
        {
          "output_type": "display_data",
          "data": {
            "text/plain": [
              "<Figure size 1500x500 with 10 Axes>"
            ],
            "image/png": "[encoded data removed]"
          },
          "metadata": {}
        }
      ]
    },
    {
      "cell_type": "code",
      "source": [
        "\n",
        "train_x = torch.cat([eights_tens, nines_tens])\n",
        "train_x.shape"
      ],
      "metadata": {
        "id": "3j6tSP8rJtYf",
        "outputId": "cbb330d0-dea9-4a01-9349-179b070b8281",
        "colab": {
          "base_uri": "https://localhost:8080/"
        }
      },
      "execution_count": 26,
      "outputs": [
        {
          "output_type": "execute_result",
          "data": {
            "text/plain": [
              "torch.Size([12000, 784])"
            ]
          },
          "metadata": {},
          "execution_count": 26
        }
      ]
    },
    {
      "cell_type": "code",
      "source": [
        "train_y = torch.tensor([8]*len(eights) + [9]*len(nines)).unsqueeze(1)\n",
        "train_x.shape,train_y.shape"
      ],
      "metadata": {
        "id": "mJAJgmZwPImq",
        "outputId": "1a80d69d-5fc1-4fb0-da7f-e68439b5dadb",
        "colab": {
          "base_uri": "https://localhost:8080/"
        }
      },
      "execution_count": 30,
      "outputs": [
        {
          "output_type": "execute_result",
          "data": {
            "text/plain": [
              "(torch.Size([12000, 784]), torch.Size([12000, 1]))"
            ]
          },
          "metadata": {},
          "execution_count": 30
        }
      ]
    },
    {
      "cell_type": "code",
      "source": [
        "len(train_y)"
      ],
      "metadata": {
        "colab": {
          "base_uri": "https://localhost:8080/"
        },
        "id": "fSuT_gxfa0Ns",
        "outputId": "cffb20fe-6d5b-451e-f133-6a072d306f37"
      },
      "execution_count": 31,
      "outputs": [
        {
          "output_type": "execute_result",
          "data": {
            "text/plain": [
              "12000"
            ]
          },
          "metadata": {},
          "execution_count": 31
        }
      ]
    },
    {
      "cell_type": "code",
      "source": [
        "dset = list(zip(train_x,train_y))\n",
        "x,y = dset[0]\n",
        "x.shape,y"
      ],
      "metadata": {
        "id": "JeYX8nVRMTgY"
      },
      "execution_count": null,
      "outputs": []
    },
    {
      "cell_type": "code",
      "source": [
        "valid_dl = DataLoader(valid_dset, batch_size=256)"
      ],
      "metadata": {
        "id": "ZvGBybAKzbVs"
      },
      "execution_count": null,
      "outputs": []
    },
    {
      "cell_type": "code",
      "execution_count": null,
      "metadata": {
        "id": "xCJco2sXSvjw"
      },
      "outputs": [],
      "source": [
        "def init_params(size, std=1.0): return (torch.randn(size)*std).requires_grad_()"
      ]
    },
    {
      "cell_type": "code",
      "source": [
        "y.shape\n"
      ],
      "metadata": {
        "id": "TtvJo8fgRfCo"
      },
      "execution_count": null,
      "outputs": []
    },
    {
      "cell_type": "code",
      "source": [
        "len(y)"
      ],
      "metadata": {
        "id": "e90crx-Eat-3"
      },
      "execution_count": null,
      "outputs": []
    },
    {
      "cell_type": "code",
      "source": [
        "y[:10]"
      ],
      "metadata": {
        "id": "JH6oKOvfRzu8"
      },
      "execution_count": null,
      "outputs": []
    },
    {
      "cell_type": "markdown",
      "source": [
        "***Function to prepare tensors***"
      ],
      "metadata": {
        "id": "pexcKTh81j_Q"
      }
    },
    {
      "cell_type": "code",
      "source": [
        "def prepare_tensors(X,y, label) :\n",
        "  \"\"\"\n",
        "  X = training or validation set\n",
        "  y = label set\n",
        "  label = Fashion MNIST label e.g. 8 is bags\n",
        "  \"\"\"\n",
        "  indices = []\n",
        "  for index in range(len(y)) :\n",
        "    if y[index] == label :\n",
        "      indices.append(index)\n",
        "\n",
        "  images = np.array([X[i] for i in indices])\n",
        "\n",
        "\n",
        "  return torch.tensor(images).view(-1, 28*28)"
      ],
      "metadata": {
        "id": "dgvaFjDz1qDx"
      },
      "execution_count": 96,
      "outputs": []
    },
    {
      "cell_type": "code",
      "source": [
        "eight_tens = prepare_tensors(X_train, y_train, 8)\n",
        "eight_tens.shape"
      ],
      "metadata": {
        "id": "mPdHnH0d3mpk",
        "outputId": "bb941b24-bc9c-4e09-aae6-e833f76bc12a",
        "colab": {
          "base_uri": "https://localhost:8080/"
        }
      },
      "execution_count": 97,
      "outputs": [
        {
          "output_type": "execute_result",
          "data": {
            "text/plain": [
              "torch.Size([6000, 784])"
            ]
          },
          "metadata": {},
          "execution_count": 97
        }
      ]
    },
    {
      "cell_type": "code",
      "source": [
        "nine_tens = prepare_tensors(X_train, y_train, 9)\n",
        "nine_tens.shape"
      ],
      "metadata": {
        "id": "IcPzd-m45Dlb",
        "outputId": "dd9f517b-fb8c-4cc3-a06f-630c7671e7f7",
        "colab": {
          "base_uri": "https://localhost:8080/"
        }
      },
      "execution_count": 98,
      "outputs": [
        {
          "output_type": "execute_result",
          "data": {
            "text/plain": [
              "torch.Size([6000, 784])"
            ]
          },
          "metadata": {},
          "execution_count": 98
        }
      ]
    },
    {
      "cell_type": "code",
      "source": [
        "display_random_images(eight_tens, [8]*len(eight_tens), num_images=10)"
      ],
      "metadata": {
        "id": "6ASmaknZ82tU",
        "outputId": "e36c12c2-c8ba-4e90-cbec-9163833df0c8",
        "colab": {
          "base_uri": "https://localhost:8080/",
          "height": 122
        }
      },
      "execution_count": 99,
      "outputs": [
        {
          "output_type": "display_data",
          "data": {
            "text/plain": [
              "<Figure size 1500x500 with 10 Axes>"
            ],
            "image/png": "[encoded data removed]"
          },
          "metadata": {}
        }
      ]
    },
    {
      "cell_type": "code",
      "source": [
        "display_random_images(nines_tens, [9]*len(nine_tens), num_images=10)"
      ],
      "metadata": {
        "id": "EmbF-iYp84WE",
        "outputId": "b568e3cd-1bfa-4e74-f5db-e974167c461d",
        "colab": {
          "base_uri": "https://localhost:8080/",
          "height": 122
        }
      },
      "execution_count": 100,
      "outputs": [
        {
          "output_type": "display_data",
          "data": {
            "text/plain": [
              "<Figure size 1500x500 with 10 Axes>"
            ],
            "image/png": "[encoded data removed]"
          },
          "metadata": {}
        }
      ]
    },
    {
      "cell_type": "markdown",
      "source": [
        "***Normalize***"
      ],
      "metadata": {
        "id": "pWA-WFvm6nFe"
      }
    },
    {
      "cell_type": "code",
      "source": [
        "eight_tens = eight_tens.float()/255\n",
        "nine_tens = nine_tens.float()/255\n",
        "eight_tens.shape, nine_tens.shape"
      ],
      "metadata": {
        "id": "gzmQ7Rnv1qD9",
        "outputId": "adcb9e23-23f8-4175-9bda-5cff64fd1a33",
        "colab": {
          "base_uri": "https://localhost:8080/"
        }
      },
      "execution_count": 101,
      "outputs": [
        {
          "output_type": "execute_result",
          "data": {
            "text/plain": [
              "(torch.Size([6000, 784]), torch.Size([6000, 784]))"
            ]
          },
          "metadata": {},
          "execution_count": 101
        }
      ]
    },
    {
      "cell_type": "code",
      "source": [
        "train_x = torch.cat([eight_tens, nine_tens]).view(-1, 28*28)\n",
        "train_x.shape"
      ],
      "metadata": {
        "outputId": "2d2e33e1-06d6-480e-92f1-70e5abbb32cf",
        "colab": {
          "base_uri": "https://localhost:8080/"
        },
        "id": "7nF9zAVZ6p7p"
      },
      "execution_count": 104,
      "outputs": [
        {
          "output_type": "execute_result",
          "data": {
            "text/plain": [
              "torch.Size([12000, 784])"
            ]
          },
          "metadata": {},
          "execution_count": 104
        }
      ]
    },
    {
      "cell_type": "markdown",
      "source": [
        "***Prepare labels***"
      ],
      "metadata": {
        "id": "y85cw9zH68Ad"
      }
    },
    {
      "cell_type": "code",
      "source": [
        "train_y = tensor([8]*len(eight_tens) + [9]*len(nine_tens)).unsqueeze(1)\n",
        "train_x.shape,train_y.shape"
      ],
      "metadata": {
        "id": "ri3SbYcJ6aIa",
        "outputId": "2b888d1e-316a-4213-ff16-fc7cb8cca3eb",
        "colab": {
          "base_uri": "https://localhost:8080/"
        }
      },
      "execution_count": 105,
      "outputs": [
        {
          "output_type": "execute_result",
          "data": {
            "text/plain": [
              "(torch.Size([12000, 784]), torch.Size([12000, 1]))"
            ]
          },
          "metadata": {},
          "execution_count": 105
        }
      ]
    },
    {
      "cell_type": "markdown",
      "source": [
        "***Prepare training set tuple***"
      ],
      "metadata": {
        "id": "aYCyiwTa7hjL"
      }
    },
    {
      "cell_type": "code",
      "source": [
        "train_dset = list(zip(train_x,train_y))\n",
        "len(train_dset)"
      ],
      "metadata": {
        "id": "KvzyUPUP6epH",
        "outputId": "1ac4eef3-8f8d-4ab8-e9fd-a66b4c5a8434",
        "colab": {
          "base_uri": "https://localhost:8080/"
        }
      },
      "execution_count": 106,
      "outputs": [
        {
          "output_type": "execute_result",
          "data": {
            "text/plain": [
              "12000"
            ]
          },
          "metadata": {},
          "execution_count": 106
        }
      ]
    },
    {
      "cell_type": "markdown",
      "source": [
        "***Repeat for validation/test set***"
      ],
      "metadata": {
        "id": "ijnCksSM8Mts"
      }
    },
    {
      "cell_type": "code",
      "source": [
        "X_test.shape, y_test.shape"
      ],
      "metadata": {
        "id": "95IjkoXx9Dkx",
        "outputId": "56e1f9ea-6170-431c-b888-e7456e3068af",
        "colab": {
          "base_uri": "https://localhost:8080/"
        }
      },
      "execution_count": 107,
      "outputs": [
        {
          "output_type": "execute_result",
          "data": {
            "text/plain": [
              "((10000, 784), (10000,))"
            ]
          },
          "metadata": {},
          "execution_count": 107
        }
      ]
    },
    {
      "cell_type": "code",
      "source": [
        "valid_eight_tens = prepare_tensors(X_test, y_test, 8)\n",
        "valid_eight_tens.shape"
      ],
      "metadata": {
        "id": "v1Dbn66b9DYC",
        "colab": {
          "base_uri": "https://localhost:8080/"
        },
        "outputId": "61633361-65c8-4385-cfdb-edbecb81874c"
      },
      "execution_count": 108,
      "outputs": [
        {
          "output_type": "execute_result",
          "data": {
            "text/plain": [
              "torch.Size([1000, 784])"
            ]
          },
          "metadata": {},
          "execution_count": 108
        }
      ]
    },
    {
      "cell_type": "code",
      "source": [
        "valid_nine_tens = prepare_tensors(X_test, y_test, 8)\n",
        "valid_nine_tens.shape"
      ],
      "metadata": {
        "id": "7Bn_sQs0HB1_",
        "outputId": "0e2864a2-366c-48f9-b12c-7d4dee325f70",
        "colab": {
          "base_uri": "https://localhost:8080/"
        }
      },
      "execution_count": 109,
      "outputs": [
        {
          "output_type": "execute_result",
          "data": {
            "text/plain": [
              "torch.Size([1000, 784])"
            ]
          },
          "metadata": {},
          "execution_count": 109
        }
      ]
    },
    {
      "cell_type": "code",
      "source": [
        "display_random_images(valid_eight_tens, [8]*len(valid_eight_tens), num_images=10)"
      ],
      "metadata": {
        "outputId": "19910455-a0aa-43cc-94b0-66fc70cd4762",
        "colab": {
          "base_uri": "https://localhost:8080/",
          "height": 122
        },
        "id": "5It2iIKjIP0o"
      },
      "execution_count": 110,
      "outputs": [
        {
          "output_type": "display_data",
          "data": {
            "text/plain": [
              "<Figure size 1500x500 with 10 Axes>"
            ],
            "image/png": "[encoded data removed]"
          },
          "metadata": {}
        }
      ]
    },
    {
      "cell_type": "code",
      "source": [
        "display_random_images(valid_nine_tens, [9]*len(valid_nine_tens), num_images=10)"
      ],
      "metadata": {
        "id": "tOFEeVzZ9DMW",
        "outputId": "bd581af0-a2ee-4e6a-e4be-abebdfb6908c",
        "colab": {
          "base_uri": "https://localhost:8080/",
          "height": 122
        }
      },
      "execution_count": 111,
      "outputs": [
        {
          "output_type": "display_data",
          "data": {
            "text/plain": [
              "<Figure size 1500x500 with 10 Axes>"
            ],
            "image/png": "[encoded data removed]"
          },
          "metadata": {}
        }
      ]
    },
    {
      "cell_type": "code",
      "source": [
        "valid_eight_tens = valid_eight_tens.float()/255\n",
        "valid_nine_tens = valid_nine_tens.float()/255\n",
        "valid_eight_tens.shape, valid_nine_tens.shape"
      ],
      "metadata": {
        "id": "53NFCBjUJd8e",
        "outputId": "07582754-c507-42c4-9b19-35e6007b3e21",
        "colab": {
          "base_uri": "https://localhost:8080/"
        }
      },
      "execution_count": 112,
      "outputs": [
        {
          "output_type": "execute_result",
          "data": {
            "text/plain": [
              "(torch.Size([1000, 784]), torch.Size([1000, 784]))"
            ]
          },
          "metadata": {},
          "execution_count": 112
        }
      ]
    },
    {
      "cell_type": "code",
      "source": [
        "test_x = torch.cat([valid_eight_tens, valid_nine_tens])\n",
        "test_x.shape"
      ],
      "metadata": {
        "id": "YryCEViSJd4O",
        "outputId": "3aed608d-920d-403f-f94a-ef84dfbea34c",
        "colab": {
          "base_uri": "https://localhost:8080/"
        }
      },
      "execution_count": 113,
      "outputs": [
        {
          "output_type": "execute_result",
          "data": {
            "text/plain": [
              "torch.Size([2000, 784])"
            ]
          },
          "metadata": {},
          "execution_count": 113
        }
      ]
    },
    {
      "cell_type": "code",
      "source": [
        "test_y = tensor([8]*len(valid_eight_tens) + [9]*len(valid_nine_tens)).unsqueeze(1)\n",
        "test_x.shape,test_y.shape"
      ],
      "metadata": {
        "id": "-OQ3vF1RJdye",
        "outputId": "0cb8f512-6914-4637-cb15-4da2c1c45975",
        "colab": {
          "base_uri": "https://localhost:8080/"
        }
      },
      "execution_count": 117,
      "outputs": [
        {
          "output_type": "execute_result",
          "data": {
            "text/plain": [
              "(torch.Size([2000, 784]), torch.Size([2000, 1]))"
            ]
          },
          "metadata": {},
          "execution_count": 117
        }
      ]
    },
    {
      "cell_type": "code",
      "source": [
        "test_dset = list(zip(test_x,test_y))\n",
        "len(test_dset)"
      ],
      "metadata": {
        "id": "mstvwf3uJdvH",
        "outputId": "066ad517-8d61-44ab-9c7d-a67e1318644e",
        "colab": {
          "base_uri": "https://localhost:8080/"
        }
      },
      "execution_count": 118,
      "outputs": [
        {
          "output_type": "execute_result",
          "data": {
            "text/plain": [
              "2000"
            ]
          },
          "metadata": {},
          "execution_count": 118
        }
      ]
    },
    {
      "cell_type": "markdown",
      "source": [
        "***Prepare training loop***\n"
      ],
      "metadata": {
        "id": "pwGg2P7JOxAc"
      }
    },
    {
      "cell_type": "code",
      "execution_count": 116,
      "metadata": {
        "id": "qaPWn_ETSkAm"
      },
      "outputs": [],
      "source": [
        "def init_params(size, std=1.0): return (torch.randn(size)*std).requires_grad_()"
      ]
    },
    {
      "cell_type": "code",
      "execution_count": 71,
      "metadata": {
        "id": "XC6rnK9pSkA7"
      },
      "outputs": [],
      "source": [
        "weights = init_params((28*28,1))"
      ]
    },
    {
      "cell_type": "code",
      "execution_count": 86,
      "metadata": {
        "id": "hUXMfxx4SkA8"
      },
      "outputs": [],
      "source": [
        "bias = init_params(1)"
      ]
    },
    {
      "cell_type": "code",
      "source": [
        "params = weights,bias"
      ],
      "metadata": {
        "id": "f4UVB5mGMzxx"
      },
      "execution_count": 94,
      "outputs": []
    },
    {
      "cell_type": "code",
      "source": [
        "dl = DataLoader(train_dset, batch_size=256)\n",
        "xb,yb = first(dl)\n",
        "xb.shape,yb.shape"
      ],
      "metadata": {
        "id": "CzEmONb6TE8T",
        "outputId": "e65e95bd-9f17-4f3e-e557-febcf543e75a",
        "colab": {
          "base_uri": "https://localhost:8080/"
        }
      },
      "execution_count": 120,
      "outputs": [
        {
          "output_type": "execute_result",
          "data": {
            "text/plain": [
              "(torch.Size([256, 784]), torch.Size([256, 1]))"
            ]
          },
          "metadata": {},
          "execution_count": 120
        }
      ]
    },
    {
      "cell_type": "code",
      "source": [
        "valid_dl = DataLoader(test_dset, batch_size=256)\n",
        "xb,yb = first(valid_dl)\n",
        "xb.shape,yb.shape"
      ],
      "metadata": {
        "id": "3HWf1fXwNios",
        "outputId": "1a8a6518-e8fd-4173-e75c-f4bb178cd982",
        "colab": {
          "base_uri": "https://localhost:8080/"
        }
      },
      "execution_count": 121,
      "outputs": [
        {
          "output_type": "execute_result",
          "data": {
            "text/plain": [
              "(torch.Size([256, 784]), torch.Size([256, 1]))"
            ]
          },
          "metadata": {},
          "execution_count": 121
        }
      ]
    },
    {
      "cell_type": "code",
      "source": [
        "def linear1(xb): return xb@weights + bias"
      ],
      "metadata": {
        "id": "16BkG3-HY8EF"
      },
      "execution_count": 122,
      "outputs": []
    },
    {
      "cell_type": "code",
      "source": [
        "batch = train_x[:4]\n",
        "batch.shape"
      ],
      "metadata": {
        "id": "x0_ScHVSOEIJ",
        "outputId": "6d84871c-891f-4723-ab78-fd87a6df884d",
        "colab": {
          "base_uri": "https://localhost:8080/"
        }
      },
      "execution_count": 124,
      "outputs": [
        {
          "output_type": "execute_result",
          "data": {
            "text/plain": [
              "torch.Size([4, 784])"
            ]
          },
          "metadata": {},
          "execution_count": 124
        }
      ]
    },
    {
      "cell_type": "code",
      "source": [
        "preds = linear1(batch)\n",
        "preds"
      ],
      "metadata": {
        "id": "EITMKsw8RntK",
        "outputId": "9233ca49-32b9-4d31-f45c-0cbd82070945",
        "colab": {
          "base_uri": "https://localhost:8080/"
        }
      },
      "execution_count": 142,
      "outputs": [
        {
          "output_type": "execute_result",
          "data": {
            "text/plain": [
              "tensor([[-27.1060],\n",
              "        [-23.8267],\n",
              "        [-28.7837],\n",
              "        [-33.8378]], grad_fn=<AddBackward0>)"
            ]
          },
          "metadata": {},
          "execution_count": 142
        }
      ]
    },
    {
      "cell_type": "code",
      "source": [
        "def mnist_loss(predictions, targets):\n",
        "    predictions = predictions.sigmoid()\n",
        "    return torch.where(targets==1, 1-predictions, predictions).mean()"
      ],
      "metadata": {
        "id": "Zbzd2zyMVdBJ"
      },
      "execution_count": 128,
      "outputs": []
    },
    {
      "cell_type": "code",
      "source": [
        "loss = mnist_loss(preds, train_y[:4])\n",
        "loss"
      ],
      "metadata": {
        "id": "CKsntnkbRsfD",
        "outputId": "493093a4-93aa-40f8-dd85-289582667d49",
        "colab": {
          "base_uri": "https://localhost:8080/"
        }
      },
      "execution_count": 143,
      "outputs": [
        {
          "output_type": "execute_result",
          "data": {
            "text/plain": [
              "tensor(1.1726e-11, grad_fn=<MeanBackward0>)"
            ]
          },
          "metadata": {},
          "execution_count": 143
        }
      ]
    },
    {
      "cell_type": "code",
      "source": [
        "w,b = linear_model.parameters()\n",
        "w.shape,b.shape"
      ],
      "metadata": {
        "id": "G3Ms2HJ1TbhX",
        "outputId": "f1bece83-e709-4de8-c229-6e35cc925a01",
        "colab": {
          "base_uri": "https://localhost:8080/"
        }
      },
      "execution_count": 69,
      "outputs": [
        {
          "output_type": "execute_result",
          "data": {
            "text/plain": [
              "(torch.Size([1, 784]), torch.Size([1]))"
            ]
          },
          "metadata": {},
          "execution_count": 69
        }
      ]
    },
    {
      "cell_type": "code",
      "source": [
        "lr = 1.0\n",
        "opt = BasicOptim(linear_model.parameters(), lr)"
      ],
      "metadata": {
        "id": "y6HbPSyDL6Zy"
      },
      "execution_count": 89,
      "outputs": []
    },
    {
      "cell_type": "code",
      "source": [
        "def validate_epoch(model):\n",
        "    accs = [batch_accuracy(model(xb), yb) for xb,yb in valid_dl]\n",
        "    return round(torch.stack(accs).mean().item(), 4)"
      ],
      "metadata": {
        "id": "kIappyoZWIPA"
      },
      "execution_count": 79,
      "outputs": []
    },
    {
      "cell_type": "code",
      "source": [
        "validate_epoch(linear_model)"
      ],
      "metadata": {
        "id": "1X2FgkPGMbjZ",
        "outputId": "0223a7da-8ce7-4b31-cbfd-1cf25f84f276",
        "colab": {
          "base_uri": "https://localhost:8080/"
        }
      },
      "execution_count": 146,
      "outputs": [
        {
          "output_type": "execute_result",
          "data": {
            "text/plain": [
              "0.0"
            ]
          },
          "metadata": {},
          "execution_count": 146
        }
      ]
    },
    {
      "cell_type": "code",
      "source": [
        "def calc_grad(xb, yb, model):\n",
        "    preds = model(xb)\n",
        "    loss = mnist_loss(preds, yb)\n",
        "    loss.backward()"
      ],
      "metadata": {
        "id": "2viIjnFqVcN1"
      },
      "execution_count": 130,
      "outputs": []
    },
    {
      "cell_type": "code",
      "source": [
        "calc_grad(batch, train_y[:4], linear1)\n",
        "weights.grad.mean(),bias.grad"
      ],
      "metadata": {
        "id": "AriGLpGeSBbi",
        "outputId": "b09f04e8-2907-473f-c2a0-249b12686827",
        "colab": {
          "base_uri": "https://localhost:8080/"
        }
      },
      "execution_count": 147,
      "outputs": [
        {
          "output_type": "execute_result",
          "data": {
            "text/plain": [
              "(tensor(1.0189e-12), tensor([4.5865e-12]))"
            ]
          },
          "metadata": {},
          "execution_count": 147
        }
      ]
    },
    {
      "cell_type": "code",
      "source": [
        "def batch_accuracy(xb, yb):\n",
        "    preds = xb.sigmoid()\n",
        "    correct = (preds>0.5) == yb\n",
        "    return correct.float().mean()"
      ],
      "metadata": {
        "id": "QwA4ymZUWPek"
      },
      "execution_count": 148,
      "outputs": []
    },
    {
      "cell_type": "code",
      "source": [
        "batch_accuracy(linear1(batch), train_y[:4])"
      ],
      "metadata": {
        "id": "zHoidWEVSUbq",
        "outputId": "8c3856e5-800f-4525-980b-4988f6b9e6be",
        "colab": {
          "base_uri": "https://localhost:8080/"
        }
      },
      "execution_count": 149,
      "outputs": [
        {
          "output_type": "execute_result",
          "data": {
            "text/plain": [
              "tensor(0.)"
            ]
          },
          "metadata": {},
          "execution_count": 149
        }
      ]
    },
    {
      "cell_type": "code",
      "source": [
        "def train_epoch(model, lr, params):\n",
        "    for xb,yb in dl:\n",
        "        calc_grad(xb, yb, model)\n",
        "        for p in params:\n",
        "            p.data -= p.grad*lr\n",
        "            p.grad.zero_()"
      ],
      "metadata": {
        "id": "D-n_CVQAUhLo"
      },
      "execution_count": 135,
      "outputs": []
    },
    {
      "cell_type": "code",
      "source": [
        "(preds>0.0).float() == train_y[:4]"
      ],
      "metadata": {
        "id": "JV7qVVJuUf9d",
        "outputId": "26b73a6f-4206-4332-df3f-c09a194a54c3",
        "colab": {
          "base_uri": "https://localhost:8080/"
        }
      },
      "execution_count": 150,
      "outputs": [
        {
          "output_type": "execute_result",
          "data": {
            "text/plain": [
              "tensor([[False],\n",
              "        [False],\n",
              "        [False],\n",
              "        [False]])"
            ]
          },
          "metadata": {},
          "execution_count": 150
        }
      ]
    },
    {
      "cell_type": "code",
      "source": [
        "lr = 1.\n",
        "params = weights,bias\n",
        "train_epoch(linear1, lr, params)\n",
        "validate_epoch(linear1)"
      ],
      "metadata": {
        "id": "jKx_518JSyYG",
        "outputId": "d20186ac-42f5-48ee-9168-675874985f40",
        "colab": {
          "base_uri": "https://localhost:8080/"
        }
      },
      "execution_count": 144,
      "outputs": [
        {
          "output_type": "execute_result",
          "data": {
            "text/plain": [
              "0.0"
            ]
          },
          "metadata": {},
          "execution_count": 144
        }
      ]
    },
    {
      "cell_type": "code",
      "source": [
        "def train_model(model, epochs):\n",
        "    for i in range(epochs):\n",
        "        train_epoch(model, lr, params)\n",
        "        print(validate_epoch(model), end=' ')"
      ],
      "metadata": {
        "id": "qstIykm_TrBx"
      },
      "execution_count": null,
      "outputs": []
    },
    {
      "cell_type": "code",
      "source": [
        "lr = 1.\n",
        "params = weights,bias"
      ],
      "metadata": {
        "id": "6cHGu_0iX5xs"
      },
      "execution_count": null,
      "outputs": []
    },
    {
      "cell_type": "code",
      "source": [
        "train_epoch(linear1, lr, params)"
      ],
      "metadata": {
        "id": "FyvdGWqVWzpf"
      },
      "execution_count": 145,
      "outputs": []
    }
  ]
}